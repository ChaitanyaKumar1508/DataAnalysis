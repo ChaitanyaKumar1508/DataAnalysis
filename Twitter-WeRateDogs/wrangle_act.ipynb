{
 "cells": [
  {
   "cell_type": "markdown",
   "metadata": {},
   "source": [
    "## Import Statements"
   ]
  },
  {
   "cell_type": "code",
   "execution_count": 654,
   "metadata": {},
   "outputs": [],
   "source": [
    "import pandas as pd\n",
    "import numpy as np\n",
    "import wptools\n",
    "import os\n",
    "import requests\n",
    "from PIL import Image\n",
    "from io import BytesIO"
   ]
  },
  {
   "cell_type": "code",
   "execution_count": 655,
   "metadata": {},
   "outputs": [],
   "source": [
    "# import matplotlib, seaborn\n",
    "import matplotlib.pyplot as plt\n",
    "import seaborn as sns\n",
    "sns.set(font_scale=1.25)\n",
    "%matplotlib inline"
   ]
  },
  {
   "cell_type": "markdown",
   "metadata": {},
   "source": [
    "# Gathering Data"
   ]
  },
  {
   "cell_type": "markdown",
   "metadata": {},
   "source": [
    "### The WeRateDogs Twitter Archive (provided)"
   ]
  },
  {
   "cell_type": "code",
   "execution_count": 593,
   "metadata": {},
   "outputs": [],
   "source": [
    "df = pd.read_csv(\"twitter-archive-enhanced.csv\")"
   ]
  },
  {
   "cell_type": "code",
   "execution_count": 594,
   "metadata": {},
   "outputs": [
    {
     "data": {
      "text/html": [
       "<div>\n",
       "<style scoped>\n",
       "    .dataframe tbody tr th:only-of-type {\n",
       "        vertical-align: middle;\n",
       "    }\n",
       "\n",
       "    .dataframe tbody tr th {\n",
       "        vertical-align: top;\n",
       "    }\n",
       "\n",
       "    .dataframe thead th {\n",
       "        text-align: right;\n",
       "    }\n",
       "</style>\n",
       "<table border=\"1\" class=\"dataframe\">\n",
       "  <thead>\n",
       "    <tr style=\"text-align: right;\">\n",
       "      <th></th>\n",
       "      <th>tweet_id</th>\n",
       "      <th>in_reply_to_status_id</th>\n",
       "      <th>in_reply_to_user_id</th>\n",
       "      <th>timestamp</th>\n",
       "      <th>source</th>\n",
       "      <th>text</th>\n",
       "      <th>retweeted_status_id</th>\n",
       "      <th>retweeted_status_user_id</th>\n",
       "      <th>retweeted_status_timestamp</th>\n",
       "      <th>expanded_urls</th>\n",
       "      <th>rating_numerator</th>\n",
       "      <th>rating_denominator</th>\n",
       "      <th>name</th>\n",
       "      <th>doggo</th>\n",
       "      <th>floofer</th>\n",
       "      <th>pupper</th>\n",
       "      <th>puppo</th>\n",
       "    </tr>\n",
       "  </thead>\n",
       "  <tbody>\n",
       "    <tr>\n",
       "      <th>0</th>\n",
       "      <td>892420643555336193</td>\n",
       "      <td>NaN</td>\n",
       "      <td>NaN</td>\n",
       "      <td>2017-08-01 16:23:56 +0000</td>\n",
       "      <td>&lt;a href=\"http://twitter.com/download/iphone\" r...</td>\n",
       "      <td>This is Phineas. He's a mystical boy. Only eve...</td>\n",
       "      <td>NaN</td>\n",
       "      <td>NaN</td>\n",
       "      <td>NaN</td>\n",
       "      <td>https://twitter.com/dog_rates/status/892420643...</td>\n",
       "      <td>13</td>\n",
       "      <td>10</td>\n",
       "      <td>Phineas</td>\n",
       "      <td>None</td>\n",
       "      <td>None</td>\n",
       "      <td>None</td>\n",
       "      <td>None</td>\n",
       "    </tr>\n",
       "    <tr>\n",
       "      <th>1</th>\n",
       "      <td>892177421306343426</td>\n",
       "      <td>NaN</td>\n",
       "      <td>NaN</td>\n",
       "      <td>2017-08-01 00:17:27 +0000</td>\n",
       "      <td>&lt;a href=\"http://twitter.com/download/iphone\" r...</td>\n",
       "      <td>This is Tilly. She's just checking pup on you....</td>\n",
       "      <td>NaN</td>\n",
       "      <td>NaN</td>\n",
       "      <td>NaN</td>\n",
       "      <td>https://twitter.com/dog_rates/status/892177421...</td>\n",
       "      <td>13</td>\n",
       "      <td>10</td>\n",
       "      <td>Tilly</td>\n",
       "      <td>None</td>\n",
       "      <td>None</td>\n",
       "      <td>None</td>\n",
       "      <td>None</td>\n",
       "    </tr>\n",
       "    <tr>\n",
       "      <th>2</th>\n",
       "      <td>891815181378084864</td>\n",
       "      <td>NaN</td>\n",
       "      <td>NaN</td>\n",
       "      <td>2017-07-31 00:18:03 +0000</td>\n",
       "      <td>&lt;a href=\"http://twitter.com/download/iphone\" r...</td>\n",
       "      <td>This is Archie. He is a rare Norwegian Pouncin...</td>\n",
       "      <td>NaN</td>\n",
       "      <td>NaN</td>\n",
       "      <td>NaN</td>\n",
       "      <td>https://twitter.com/dog_rates/status/891815181...</td>\n",
       "      <td>12</td>\n",
       "      <td>10</td>\n",
       "      <td>Archie</td>\n",
       "      <td>None</td>\n",
       "      <td>None</td>\n",
       "      <td>None</td>\n",
       "      <td>None</td>\n",
       "    </tr>\n",
       "  </tbody>\n",
       "</table>\n",
       "</div>"
      ],
      "text/plain": [
       "             tweet_id  in_reply_to_status_id  in_reply_to_user_id  \\\n",
       "0  892420643555336193                    NaN                  NaN   \n",
       "1  892177421306343426                    NaN                  NaN   \n",
       "2  891815181378084864                    NaN                  NaN   \n",
       "\n",
       "                   timestamp  \\\n",
       "0  2017-08-01 16:23:56 +0000   \n",
       "1  2017-08-01 00:17:27 +0000   \n",
       "2  2017-07-31 00:18:03 +0000   \n",
       "\n",
       "                                              source  \\\n",
       "0  <a href=\"http://twitter.com/download/iphone\" r...   \n",
       "1  <a href=\"http://twitter.com/download/iphone\" r...   \n",
       "2  <a href=\"http://twitter.com/download/iphone\" r...   \n",
       "\n",
       "                                                text  retweeted_status_id  \\\n",
       "0  This is Phineas. He's a mystical boy. Only eve...                  NaN   \n",
       "1  This is Tilly. She's just checking pup on you....                  NaN   \n",
       "2  This is Archie. He is a rare Norwegian Pouncin...                  NaN   \n",
       "\n",
       "   retweeted_status_user_id retweeted_status_timestamp  \\\n",
       "0                       NaN                        NaN   \n",
       "1                       NaN                        NaN   \n",
       "2                       NaN                        NaN   \n",
       "\n",
       "                                       expanded_urls  rating_numerator  \\\n",
       "0  https://twitter.com/dog_rates/status/892420643...                13   \n",
       "1  https://twitter.com/dog_rates/status/892177421...                13   \n",
       "2  https://twitter.com/dog_rates/status/891815181...                12   \n",
       "\n",
       "   rating_denominator     name doggo floofer pupper puppo  \n",
       "0                  10  Phineas  None    None   None  None  \n",
       "1                  10    Tilly  None    None   None  None  \n",
       "2                  10   Archie  None    None   None  None  "
      ]
     },
     "execution_count": 594,
     "metadata": {},
     "output_type": "execute_result"
    }
   ],
   "source": [
    "df.head(3)"
   ]
  },
  {
   "cell_type": "code",
   "execution_count": 595,
   "metadata": {},
   "outputs": [
    {
     "data": {
      "text/plain": [
       "Index(['tweet_id', 'in_reply_to_status_id', 'in_reply_to_user_id', 'timestamp',\n",
       "       'source', 'text', 'retweeted_status_id', 'retweeted_status_user_id',\n",
       "       'retweeted_status_timestamp', 'expanded_urls', 'rating_numerator',\n",
       "       'rating_denominator', 'name', 'doggo', 'floofer', 'pupper', 'puppo'],\n",
       "      dtype='object')"
      ]
     },
     "execution_count": 595,
     "metadata": {},
     "output_type": "execute_result"
    }
   ],
   "source": [
    "df.columns"
   ]
  },
  {
   "cell_type": "code",
   "execution_count": 596,
   "metadata": {},
   "outputs": [
    {
     "name": "stdout",
     "output_type": "stream",
     "text": [
      "<class 'pandas.core.frame.DataFrame'>\n",
      "RangeIndex: 2356 entries, 0 to 2355\n",
      "Data columns (total 17 columns):\n",
      "tweet_id                      2356 non-null int64\n",
      "in_reply_to_status_id         78 non-null float64\n",
      "in_reply_to_user_id           78 non-null float64\n",
      "timestamp                     2356 non-null object\n",
      "source                        2356 non-null object\n",
      "text                          2356 non-null object\n",
      "retweeted_status_id           181 non-null float64\n",
      "retweeted_status_user_id      181 non-null float64\n",
      "retweeted_status_timestamp    181 non-null object\n",
      "expanded_urls                 2297 non-null object\n",
      "rating_numerator              2356 non-null int64\n",
      "rating_denominator            2356 non-null int64\n",
      "name                          2356 non-null object\n",
      "doggo                         2356 non-null object\n",
      "floofer                       2356 non-null object\n",
      "pupper                        2356 non-null object\n",
      "puppo                         2356 non-null object\n",
      "dtypes: float64(4), int64(3), object(10)\n",
      "memory usage: 313.0+ KB\n"
     ]
    }
   ],
   "source": [
    "df.info()"
   ]
  },
  {
   "cell_type": "markdown",
   "metadata": {},
   "source": [
    "### Tweets from Twitter API"
   ]
  },
  {
   "cell_type": "markdown",
   "metadata": {},
   "source": [
    "#### Loading the data from the provided file \"tweet-json.txt\" as the request was failing from my end and wasn't able to get the data from the API"
   ]
  },
  {
   "cell_type": "code",
   "execution_count": 597,
   "metadata": {},
   "outputs": [],
   "source": [
    "import json\n",
    "\n",
    "tweets = []\n",
    "for line in open('tweet-json.txt', 'r'):\n",
    "    tweets.append(json.loads(line))"
   ]
  },
  {
   "cell_type": "code",
   "execution_count": 598,
   "metadata": {},
   "outputs": [],
   "source": [
    "tweets = pd.DataFrame(tweets)"
   ]
  },
  {
   "cell_type": "code",
   "execution_count": 599,
   "metadata": {},
   "outputs": [
    {
     "name": "stdout",
     "output_type": "stream",
     "text": [
      "<class 'pandas.core.frame.DataFrame'>\n",
      "RangeIndex: 2354 entries, 0 to 2353\n",
      "Data columns (total 31 columns):\n",
      "contributors                     0 non-null object\n",
      "coordinates                      0 non-null object\n",
      "created_at                       2354 non-null object\n",
      "display_text_range               2354 non-null object\n",
      "entities                         2354 non-null object\n",
      "extended_entities                2073 non-null object\n",
      "favorite_count                   2354 non-null int64\n",
      "favorited                        2354 non-null bool\n",
      "full_text                        2354 non-null object\n",
      "geo                              0 non-null object\n",
      "id                               2354 non-null int64\n",
      "id_str                           2354 non-null object\n",
      "in_reply_to_screen_name          78 non-null object\n",
      "in_reply_to_status_id            78 non-null float64\n",
      "in_reply_to_status_id_str        78 non-null object\n",
      "in_reply_to_user_id              78 non-null float64\n",
      "in_reply_to_user_id_str          78 non-null object\n",
      "is_quote_status                  2354 non-null bool\n",
      "lang                             2354 non-null object\n",
      "place                            1 non-null object\n",
      "possibly_sensitive               2211 non-null object\n",
      "possibly_sensitive_appealable    2211 non-null object\n",
      "quoted_status                    28 non-null object\n",
      "quoted_status_id                 29 non-null float64\n",
      "quoted_status_id_str             29 non-null object\n",
      "retweet_count                    2354 non-null int64\n",
      "retweeted                        2354 non-null bool\n",
      "retweeted_status                 179 non-null object\n",
      "source                           2354 non-null object\n",
      "truncated                        2354 non-null bool\n",
      "user                             2354 non-null object\n",
      "dtypes: bool(4), float64(3), int64(3), object(21)\n",
      "memory usage: 505.8+ KB\n"
     ]
    }
   ],
   "source": [
    "tweets.info()"
   ]
  },
  {
   "cell_type": "code",
   "execution_count": 600,
   "metadata": {},
   "outputs": [
    {
     "data": {
      "text/html": [
       "<div>\n",
       "<style scoped>\n",
       "    .dataframe tbody tr th:only-of-type {\n",
       "        vertical-align: middle;\n",
       "    }\n",
       "\n",
       "    .dataframe tbody tr th {\n",
       "        vertical-align: top;\n",
       "    }\n",
       "\n",
       "    .dataframe thead th {\n",
       "        text-align: right;\n",
       "    }\n",
       "</style>\n",
       "<table border=\"1\" class=\"dataframe\">\n",
       "  <thead>\n",
       "    <tr style=\"text-align: right;\">\n",
       "      <th></th>\n",
       "      <th>contributors</th>\n",
       "      <th>coordinates</th>\n",
       "      <th>created_at</th>\n",
       "      <th>display_text_range</th>\n",
       "      <th>entities</th>\n",
       "      <th>extended_entities</th>\n",
       "      <th>favorite_count</th>\n",
       "      <th>favorited</th>\n",
       "      <th>full_text</th>\n",
       "      <th>geo</th>\n",
       "      <th>...</th>\n",
       "      <th>possibly_sensitive_appealable</th>\n",
       "      <th>quoted_status</th>\n",
       "      <th>quoted_status_id</th>\n",
       "      <th>quoted_status_id_str</th>\n",
       "      <th>retweet_count</th>\n",
       "      <th>retweeted</th>\n",
       "      <th>retweeted_status</th>\n",
       "      <th>source</th>\n",
       "      <th>truncated</th>\n",
       "      <th>user</th>\n",
       "    </tr>\n",
       "  </thead>\n",
       "  <tbody>\n",
       "    <tr>\n",
       "      <th>0</th>\n",
       "      <td>None</td>\n",
       "      <td>None</td>\n",
       "      <td>Tue Aug 01 16:23:56 +0000 2017</td>\n",
       "      <td>[0, 85]</td>\n",
       "      <td>{'hashtags': [], 'symbols': [], 'user_mentions...</td>\n",
       "      <td>{'media': [{'id': 892420639486877696, 'id_str'...</td>\n",
       "      <td>39467</td>\n",
       "      <td>False</td>\n",
       "      <td>This is Phineas. He's a mystical boy. Only eve...</td>\n",
       "      <td>None</td>\n",
       "      <td>...</td>\n",
       "      <td>False</td>\n",
       "      <td>NaN</td>\n",
       "      <td>NaN</td>\n",
       "      <td>NaN</td>\n",
       "      <td>8853</td>\n",
       "      <td>False</td>\n",
       "      <td>NaN</td>\n",
       "      <td>&lt;a href=\"http://twitter.com/download/iphone\" r...</td>\n",
       "      <td>False</td>\n",
       "      <td>{'id': 4196983835, 'id_str': '4196983835', 'na...</td>\n",
       "    </tr>\n",
       "    <tr>\n",
       "      <th>1</th>\n",
       "      <td>None</td>\n",
       "      <td>None</td>\n",
       "      <td>Tue Aug 01 00:17:27 +0000 2017</td>\n",
       "      <td>[0, 138]</td>\n",
       "      <td>{'hashtags': [], 'symbols': [], 'user_mentions...</td>\n",
       "      <td>{'media': [{'id': 892177413194625024, 'id_str'...</td>\n",
       "      <td>33819</td>\n",
       "      <td>False</td>\n",
       "      <td>This is Tilly. She's just checking pup on you....</td>\n",
       "      <td>None</td>\n",
       "      <td>...</td>\n",
       "      <td>False</td>\n",
       "      <td>NaN</td>\n",
       "      <td>NaN</td>\n",
       "      <td>NaN</td>\n",
       "      <td>6514</td>\n",
       "      <td>False</td>\n",
       "      <td>NaN</td>\n",
       "      <td>&lt;a href=\"http://twitter.com/download/iphone\" r...</td>\n",
       "      <td>False</td>\n",
       "      <td>{'id': 4196983835, 'id_str': '4196983835', 'na...</td>\n",
       "    </tr>\n",
       "    <tr>\n",
       "      <th>2</th>\n",
       "      <td>None</td>\n",
       "      <td>None</td>\n",
       "      <td>Mon Jul 31 00:18:03 +0000 2017</td>\n",
       "      <td>[0, 121]</td>\n",
       "      <td>{'hashtags': [], 'symbols': [], 'user_mentions...</td>\n",
       "      <td>{'media': [{'id': 891815175371796480, 'id_str'...</td>\n",
       "      <td>25461</td>\n",
       "      <td>False</td>\n",
       "      <td>This is Archie. He is a rare Norwegian Pouncin...</td>\n",
       "      <td>None</td>\n",
       "      <td>...</td>\n",
       "      <td>False</td>\n",
       "      <td>NaN</td>\n",
       "      <td>NaN</td>\n",
       "      <td>NaN</td>\n",
       "      <td>4328</td>\n",
       "      <td>False</td>\n",
       "      <td>NaN</td>\n",
       "      <td>&lt;a href=\"http://twitter.com/download/iphone\" r...</td>\n",
       "      <td>False</td>\n",
       "      <td>{'id': 4196983835, 'id_str': '4196983835', 'na...</td>\n",
       "    </tr>\n",
       "  </tbody>\n",
       "</table>\n",
       "<p>3 rows × 31 columns</p>\n",
       "</div>"
      ],
      "text/plain": [
       "  contributors coordinates                      created_at display_text_range  \\\n",
       "0         None        None  Tue Aug 01 16:23:56 +0000 2017            [0, 85]   \n",
       "1         None        None  Tue Aug 01 00:17:27 +0000 2017           [0, 138]   \n",
       "2         None        None  Mon Jul 31 00:18:03 +0000 2017           [0, 121]   \n",
       "\n",
       "                                            entities  \\\n",
       "0  {'hashtags': [], 'symbols': [], 'user_mentions...   \n",
       "1  {'hashtags': [], 'symbols': [], 'user_mentions...   \n",
       "2  {'hashtags': [], 'symbols': [], 'user_mentions...   \n",
       "\n",
       "                                   extended_entities  favorite_count  \\\n",
       "0  {'media': [{'id': 892420639486877696, 'id_str'...           39467   \n",
       "1  {'media': [{'id': 892177413194625024, 'id_str'...           33819   \n",
       "2  {'media': [{'id': 891815175371796480, 'id_str'...           25461   \n",
       "\n",
       "   favorited                                          full_text   geo  \\\n",
       "0      False  This is Phineas. He's a mystical boy. Only eve...  None   \n",
       "1      False  This is Tilly. She's just checking pup on you....  None   \n",
       "2      False  This is Archie. He is a rare Norwegian Pouncin...  None   \n",
       "\n",
       "                         ...                          \\\n",
       "0                        ...                           \n",
       "1                        ...                           \n",
       "2                        ...                           \n",
       "\n",
       "   possibly_sensitive_appealable quoted_status quoted_status_id  \\\n",
       "0                          False           NaN              NaN   \n",
       "1                          False           NaN              NaN   \n",
       "2                          False           NaN              NaN   \n",
       "\n",
       "   quoted_status_id_str retweet_count  retweeted retweeted_status  \\\n",
       "0                   NaN          8853      False              NaN   \n",
       "1                   NaN          6514      False              NaN   \n",
       "2                   NaN          4328      False              NaN   \n",
       "\n",
       "                                              source truncated  \\\n",
       "0  <a href=\"http://twitter.com/download/iphone\" r...     False   \n",
       "1  <a href=\"http://twitter.com/download/iphone\" r...     False   \n",
       "2  <a href=\"http://twitter.com/download/iphone\" r...     False   \n",
       "\n",
       "                                                user  \n",
       "0  {'id': 4196983835, 'id_str': '4196983835', 'na...  \n",
       "1  {'id': 4196983835, 'id_str': '4196983835', 'na...  \n",
       "2  {'id': 4196983835, 'id_str': '4196983835', 'na...  \n",
       "\n",
       "[3 rows x 31 columns]"
      ]
     },
     "execution_count": 600,
     "metadata": {},
     "output_type": "execute_result"
    }
   ],
   "source": [
    "tweets.head(3)"
   ]
  },
  {
   "cell_type": "code",
   "execution_count": 601,
   "metadata": {},
   "outputs": [
    {
     "data": {
      "text/html": [
       "<div>\n",
       "<style scoped>\n",
       "    .dataframe tbody tr th:only-of-type {\n",
       "        vertical-align: middle;\n",
       "    }\n",
       "\n",
       "    .dataframe tbody tr th {\n",
       "        vertical-align: top;\n",
       "    }\n",
       "\n",
       "    .dataframe thead th {\n",
       "        text-align: right;\n",
       "    }\n",
       "</style>\n",
       "<table border=\"1\" class=\"dataframe\">\n",
       "  <thead>\n",
       "    <tr style=\"text-align: right;\">\n",
       "      <th></th>\n",
       "      <th>id</th>\n",
       "      <th>retweet_count</th>\n",
       "      <th>favorite_count</th>\n",
       "      <th>user</th>\n",
       "    </tr>\n",
       "  </thead>\n",
       "  <tbody>\n",
       "    <tr>\n",
       "      <th>0</th>\n",
       "      <td>892420643555336193</td>\n",
       "      <td>8853</td>\n",
       "      <td>39467</td>\n",
       "      <td>{'id': 4196983835, 'id_str': '4196983835', 'na...</td>\n",
       "    </tr>\n",
       "    <tr>\n",
       "      <th>1</th>\n",
       "      <td>892177421306343426</td>\n",
       "      <td>6514</td>\n",
       "      <td>33819</td>\n",
       "      <td>{'id': 4196983835, 'id_str': '4196983835', 'na...</td>\n",
       "    </tr>\n",
       "    <tr>\n",
       "      <th>2</th>\n",
       "      <td>891815181378084864</td>\n",
       "      <td>4328</td>\n",
       "      <td>25461</td>\n",
       "      <td>{'id': 4196983835, 'id_str': '4196983835', 'na...</td>\n",
       "    </tr>\n",
       "    <tr>\n",
       "      <th>3</th>\n",
       "      <td>891689557279858688</td>\n",
       "      <td>8964</td>\n",
       "      <td>42908</td>\n",
       "      <td>{'id': 4196983835, 'id_str': '4196983835', 'na...</td>\n",
       "    </tr>\n",
       "    <tr>\n",
       "      <th>4</th>\n",
       "      <td>891327558926688256</td>\n",
       "      <td>9774</td>\n",
       "      <td>41048</td>\n",
       "      <td>{'id': 4196983835, 'id_str': '4196983835', 'na...</td>\n",
       "    </tr>\n",
       "    <tr>\n",
       "      <th>5</th>\n",
       "      <td>891087950875897856</td>\n",
       "      <td>3261</td>\n",
       "      <td>20562</td>\n",
       "      <td>{'id': 4196983835, 'id_str': '4196983835', 'na...</td>\n",
       "    </tr>\n",
       "    <tr>\n",
       "      <th>6</th>\n",
       "      <td>890971913173991426</td>\n",
       "      <td>2158</td>\n",
       "      <td>12041</td>\n",
       "      <td>{'id': 4196983835, 'id_str': '4196983835', 'na...</td>\n",
       "    </tr>\n",
       "    <tr>\n",
       "      <th>7</th>\n",
       "      <td>890729181411237888</td>\n",
       "      <td>16716</td>\n",
       "      <td>56848</td>\n",
       "      <td>{'id': 4196983835, 'id_str': '4196983835', 'na...</td>\n",
       "    </tr>\n",
       "    <tr>\n",
       "      <th>8</th>\n",
       "      <td>890609185150312448</td>\n",
       "      <td>4429</td>\n",
       "      <td>28226</td>\n",
       "      <td>{'id': 4196983835, 'id_str': '4196983835', 'na...</td>\n",
       "    </tr>\n",
       "    <tr>\n",
       "      <th>9</th>\n",
       "      <td>890240255349198849</td>\n",
       "      <td>7711</td>\n",
       "      <td>32467</td>\n",
       "      <td>{'id': 4196983835, 'id_str': '4196983835', 'na...</td>\n",
       "    </tr>\n",
       "    <tr>\n",
       "      <th>10</th>\n",
       "      <td>890006608113172480</td>\n",
       "      <td>7624</td>\n",
       "      <td>31166</td>\n",
       "      <td>{'id': 4196983835, 'id_str': '4196983835', 'na...</td>\n",
       "    </tr>\n",
       "    <tr>\n",
       "      <th>11</th>\n",
       "      <td>889880896479866881</td>\n",
       "      <td>5156</td>\n",
       "      <td>28268</td>\n",
       "      <td>{'id': 4196983835, 'id_str': '4196983835', 'na...</td>\n",
       "    </tr>\n",
       "    <tr>\n",
       "      <th>12</th>\n",
       "      <td>889665388333682689</td>\n",
       "      <td>8538</td>\n",
       "      <td>38818</td>\n",
       "      <td>{'id': 4196983835, 'id_str': '4196983835', 'na...</td>\n",
       "    </tr>\n",
       "    <tr>\n",
       "      <th>13</th>\n",
       "      <td>889638837579907072</td>\n",
       "      <td>4735</td>\n",
       "      <td>27672</td>\n",
       "      <td>{'id': 4196983835, 'id_str': '4196983835', 'na...</td>\n",
       "    </tr>\n",
       "    <tr>\n",
       "      <th>14</th>\n",
       "      <td>889531135344209921</td>\n",
       "      <td>2321</td>\n",
       "      <td>15359</td>\n",
       "      <td>{'id': 4196983835, 'id_str': '4196983835', 'na...</td>\n",
       "    </tr>\n",
       "    <tr>\n",
       "      <th>15</th>\n",
       "      <td>889278841981685760</td>\n",
       "      <td>5637</td>\n",
       "      <td>25652</td>\n",
       "      <td>{'id': 4196983835, 'id_str': '4196983835', 'na...</td>\n",
       "    </tr>\n",
       "    <tr>\n",
       "      <th>16</th>\n",
       "      <td>888917238123831296</td>\n",
       "      <td>4709</td>\n",
       "      <td>29611</td>\n",
       "      <td>{'id': 4196983835, 'id_str': '4196983835', 'na...</td>\n",
       "    </tr>\n",
       "    <tr>\n",
       "      <th>17</th>\n",
       "      <td>888804989199671297</td>\n",
       "      <td>4559</td>\n",
       "      <td>26080</td>\n",
       "      <td>{'id': 4196983835, 'id_str': '4196983835', 'na...</td>\n",
       "    </tr>\n",
       "    <tr>\n",
       "      <th>18</th>\n",
       "      <td>888554962724278272</td>\n",
       "      <td>3732</td>\n",
       "      <td>20290</td>\n",
       "      <td>{'id': 4196983835, 'id_str': '4196983835', 'na...</td>\n",
       "    </tr>\n",
       "    <tr>\n",
       "      <th>19</th>\n",
       "      <td>888078434458587136</td>\n",
       "      <td>3653</td>\n",
       "      <td>22201</td>\n",
       "      <td>{'id': 4196983835, 'id_str': '4196983835', 'na...</td>\n",
       "    </tr>\n",
       "    <tr>\n",
       "      <th>20</th>\n",
       "      <td>887705289381826560</td>\n",
       "      <td>5609</td>\n",
       "      <td>30779</td>\n",
       "      <td>{'id': 4196983835, 'id_str': '4196983835', 'na...</td>\n",
       "    </tr>\n",
       "    <tr>\n",
       "      <th>21</th>\n",
       "      <td>887517139158093824</td>\n",
       "      <td>12082</td>\n",
       "      <td>46959</td>\n",
       "      <td>{'id': 4196983835, 'id_str': '4196983835', 'na...</td>\n",
       "    </tr>\n",
       "    <tr>\n",
       "      <th>22</th>\n",
       "      <td>887473957103951883</td>\n",
       "      <td>18781</td>\n",
       "      <td>69871</td>\n",
       "      <td>{'id': 4196983835, 'id_str': '4196983835', 'na...</td>\n",
       "    </tr>\n",
       "    <tr>\n",
       "      <th>23</th>\n",
       "      <td>887343217045368832</td>\n",
       "      <td>10737</td>\n",
       "      <td>34222</td>\n",
       "      <td>{'id': 4196983835, 'id_str': '4196983835', 'na...</td>\n",
       "    </tr>\n",
       "    <tr>\n",
       "      <th>24</th>\n",
       "      <td>887101392804085760</td>\n",
       "      <td>6167</td>\n",
       "      <td>31061</td>\n",
       "      <td>{'id': 4196983835, 'id_str': '4196983835', 'na...</td>\n",
       "    </tr>\n",
       "    <tr>\n",
       "      <th>25</th>\n",
       "      <td>886983233522544640</td>\n",
       "      <td>8084</td>\n",
       "      <td>35859</td>\n",
       "      <td>{'id': 4196983835, 'id_str': '4196983835', 'na...</td>\n",
       "    </tr>\n",
       "    <tr>\n",
       "      <th>26</th>\n",
       "      <td>886736880519319552</td>\n",
       "      <td>3443</td>\n",
       "      <td>12306</td>\n",
       "      <td>{'id': 4196983835, 'id_str': '4196983835', 'na...</td>\n",
       "    </tr>\n",
       "    <tr>\n",
       "      <th>27</th>\n",
       "      <td>886680336477933568</td>\n",
       "      <td>4610</td>\n",
       "      <td>22798</td>\n",
       "      <td>{'id': 4196983835, 'id_str': '4196983835', 'na...</td>\n",
       "    </tr>\n",
       "    <tr>\n",
       "      <th>28</th>\n",
       "      <td>886366144734445568</td>\n",
       "      <td>3316</td>\n",
       "      <td>21524</td>\n",
       "      <td>{'id': 4196983835, 'id_str': '4196983835', 'na...</td>\n",
       "    </tr>\n",
       "    <tr>\n",
       "      <th>29</th>\n",
       "      <td>886267009285017600</td>\n",
       "      <td>4</td>\n",
       "      <td>117</td>\n",
       "      <td>{'id': 4196983835, 'id_str': '4196983835', 'na...</td>\n",
       "    </tr>\n",
       "    <tr>\n",
       "      <th>...</th>\n",
       "      <td>...</td>\n",
       "      <td>...</td>\n",
       "      <td>...</td>\n",
       "      <td>...</td>\n",
       "    </tr>\n",
       "    <tr>\n",
       "      <th>2324</th>\n",
       "      <td>666411507551481857</td>\n",
       "      <td>339</td>\n",
       "      <td>459</td>\n",
       "      <td>{'id': 4196983835, 'id_str': '4196983835', 'na...</td>\n",
       "    </tr>\n",
       "    <tr>\n",
       "      <th>2325</th>\n",
       "      <td>666407126856765440</td>\n",
       "      <td>44</td>\n",
       "      <td>113</td>\n",
       "      <td>{'id': 4196983835, 'id_str': '4196983835', 'na...</td>\n",
       "    </tr>\n",
       "    <tr>\n",
       "      <th>2326</th>\n",
       "      <td>666396247373291520</td>\n",
       "      <td>92</td>\n",
       "      <td>172</td>\n",
       "      <td>{'id': 4196983835, 'id_str': '4196983835', 'na...</td>\n",
       "    </tr>\n",
       "    <tr>\n",
       "      <th>2327</th>\n",
       "      <td>666373753744588802</td>\n",
       "      <td>100</td>\n",
       "      <td>194</td>\n",
       "      <td>{'id': 4196983835, 'id_str': '4196983835', 'na...</td>\n",
       "    </tr>\n",
       "    <tr>\n",
       "      <th>2328</th>\n",
       "      <td>666362758909284353</td>\n",
       "      <td>595</td>\n",
       "      <td>804</td>\n",
       "      <td>{'id': 4196983835, 'id_str': '4196983835', 'na...</td>\n",
       "    </tr>\n",
       "    <tr>\n",
       "      <th>2329</th>\n",
       "      <td>666353288456101888</td>\n",
       "      <td>77</td>\n",
       "      <td>229</td>\n",
       "      <td>{'id': 4196983835, 'id_str': '4196983835', 'na...</td>\n",
       "    </tr>\n",
       "    <tr>\n",
       "      <th>2330</th>\n",
       "      <td>666345417576210432</td>\n",
       "      <td>146</td>\n",
       "      <td>307</td>\n",
       "      <td>{'id': 4196983835, 'id_str': '4196983835', 'na...</td>\n",
       "    </tr>\n",
       "    <tr>\n",
       "      <th>2331</th>\n",
       "      <td>666337882303524864</td>\n",
       "      <td>96</td>\n",
       "      <td>204</td>\n",
       "      <td>{'id': 4196983835, 'id_str': '4196983835', 'na...</td>\n",
       "    </tr>\n",
       "    <tr>\n",
       "      <th>2332</th>\n",
       "      <td>666293911632134144</td>\n",
       "      <td>368</td>\n",
       "      <td>522</td>\n",
       "      <td>{'id': 4196983835, 'id_str': '4196983835', 'na...</td>\n",
       "    </tr>\n",
       "    <tr>\n",
       "      <th>2333</th>\n",
       "      <td>666287406224695296</td>\n",
       "      <td>71</td>\n",
       "      <td>152</td>\n",
       "      <td>{'id': 4196983835, 'id_str': '4196983835', 'na...</td>\n",
       "    </tr>\n",
       "    <tr>\n",
       "      <th>2334</th>\n",
       "      <td>666273097616637952</td>\n",
       "      <td>82</td>\n",
       "      <td>184</td>\n",
       "      <td>{'id': 4196983835, 'id_str': '4196983835', 'na...</td>\n",
       "    </tr>\n",
       "    <tr>\n",
       "      <th>2335</th>\n",
       "      <td>666268910803644416</td>\n",
       "      <td>37</td>\n",
       "      <td>108</td>\n",
       "      <td>{'id': 4196983835, 'id_str': '4196983835', 'na...</td>\n",
       "    </tr>\n",
       "    <tr>\n",
       "      <th>2336</th>\n",
       "      <td>666104133288665088</td>\n",
       "      <td>6871</td>\n",
       "      <td>14765</td>\n",
       "      <td>{'id': 4196983835, 'id_str': '4196983835', 'na...</td>\n",
       "    </tr>\n",
       "    <tr>\n",
       "      <th>2337</th>\n",
       "      <td>666102155909144576</td>\n",
       "      <td>16</td>\n",
       "      <td>81</td>\n",
       "      <td>{'id': 4196983835, 'id_str': '4196983835', 'na...</td>\n",
       "    </tr>\n",
       "    <tr>\n",
       "      <th>2338</th>\n",
       "      <td>666099513787052032</td>\n",
       "      <td>73</td>\n",
       "      <td>164</td>\n",
       "      <td>{'id': 4196983835, 'id_str': '4196983835', 'na...</td>\n",
       "    </tr>\n",
       "    <tr>\n",
       "      <th>2339</th>\n",
       "      <td>666094000022159362</td>\n",
       "      <td>79</td>\n",
       "      <td>169</td>\n",
       "      <td>{'id': 4196983835, 'id_str': '4196983835', 'na...</td>\n",
       "    </tr>\n",
       "    <tr>\n",
       "      <th>2340</th>\n",
       "      <td>666082916733198337</td>\n",
       "      <td>47</td>\n",
       "      <td>121</td>\n",
       "      <td>{'id': 4196983835, 'id_str': '4196983835', 'na...</td>\n",
       "    </tr>\n",
       "    <tr>\n",
       "      <th>2341</th>\n",
       "      <td>666073100786774016</td>\n",
       "      <td>174</td>\n",
       "      <td>335</td>\n",
       "      <td>{'id': 4196983835, 'id_str': '4196983835', 'na...</td>\n",
       "    </tr>\n",
       "    <tr>\n",
       "      <th>2342</th>\n",
       "      <td>666071193221509120</td>\n",
       "      <td>67</td>\n",
       "      <td>154</td>\n",
       "      <td>{'id': 4196983835, 'id_str': '4196983835', 'na...</td>\n",
       "    </tr>\n",
       "    <tr>\n",
       "      <th>2343</th>\n",
       "      <td>666063827256086533</td>\n",
       "      <td>232</td>\n",
       "      <td>496</td>\n",
       "      <td>{'id': 4196983835, 'id_str': '4196983835', 'na...</td>\n",
       "    </tr>\n",
       "    <tr>\n",
       "      <th>2344</th>\n",
       "      <td>666058600524156928</td>\n",
       "      <td>61</td>\n",
       "      <td>115</td>\n",
       "      <td>{'id': 4196983835, 'id_str': '4196983835', 'na...</td>\n",
       "    </tr>\n",
       "    <tr>\n",
       "      <th>2345</th>\n",
       "      <td>666057090499244032</td>\n",
       "      <td>146</td>\n",
       "      <td>304</td>\n",
       "      <td>{'id': 4196983835, 'id_str': '4196983835', 'na...</td>\n",
       "    </tr>\n",
       "    <tr>\n",
       "      <th>2346</th>\n",
       "      <td>666055525042405380</td>\n",
       "      <td>261</td>\n",
       "      <td>448</td>\n",
       "      <td>{'id': 4196983835, 'id_str': '4196983835', 'na...</td>\n",
       "    </tr>\n",
       "    <tr>\n",
       "      <th>2347</th>\n",
       "      <td>666051853826850816</td>\n",
       "      <td>879</td>\n",
       "      <td>1253</td>\n",
       "      <td>{'id': 4196983835, 'id_str': '4196983835', 'na...</td>\n",
       "    </tr>\n",
       "    <tr>\n",
       "      <th>2348</th>\n",
       "      <td>666050758794694657</td>\n",
       "      <td>60</td>\n",
       "      <td>136</td>\n",
       "      <td>{'id': 4196983835, 'id_str': '4196983835', 'na...</td>\n",
       "    </tr>\n",
       "    <tr>\n",
       "      <th>2349</th>\n",
       "      <td>666049248165822465</td>\n",
       "      <td>41</td>\n",
       "      <td>111</td>\n",
       "      <td>{'id': 4196983835, 'id_str': '4196983835', 'na...</td>\n",
       "    </tr>\n",
       "    <tr>\n",
       "      <th>2350</th>\n",
       "      <td>666044226329800704</td>\n",
       "      <td>147</td>\n",
       "      <td>311</td>\n",
       "      <td>{'id': 4196983835, 'id_str': '4196983835', 'na...</td>\n",
       "    </tr>\n",
       "    <tr>\n",
       "      <th>2351</th>\n",
       "      <td>666033412701032449</td>\n",
       "      <td>47</td>\n",
       "      <td>128</td>\n",
       "      <td>{'id': 4196983835, 'id_str': '4196983835', 'na...</td>\n",
       "    </tr>\n",
       "    <tr>\n",
       "      <th>2352</th>\n",
       "      <td>666029285002620928</td>\n",
       "      <td>48</td>\n",
       "      <td>132</td>\n",
       "      <td>{'id': 4196983835, 'id_str': '4196983835', 'na...</td>\n",
       "    </tr>\n",
       "    <tr>\n",
       "      <th>2353</th>\n",
       "      <td>666020888022790149</td>\n",
       "      <td>532</td>\n",
       "      <td>2535</td>\n",
       "      <td>{'id': 4196983835, 'id_str': '4196983835', 'na...</td>\n",
       "    </tr>\n",
       "  </tbody>\n",
       "</table>\n",
       "<p>2354 rows × 4 columns</p>\n",
       "</div>"
      ],
      "text/plain": [
       "                      id  retweet_count  favorite_count  \\\n",
       "0     892420643555336193           8853           39467   \n",
       "1     892177421306343426           6514           33819   \n",
       "2     891815181378084864           4328           25461   \n",
       "3     891689557279858688           8964           42908   \n",
       "4     891327558926688256           9774           41048   \n",
       "5     891087950875897856           3261           20562   \n",
       "6     890971913173991426           2158           12041   \n",
       "7     890729181411237888          16716           56848   \n",
       "8     890609185150312448           4429           28226   \n",
       "9     890240255349198849           7711           32467   \n",
       "10    890006608113172480           7624           31166   \n",
       "11    889880896479866881           5156           28268   \n",
       "12    889665388333682689           8538           38818   \n",
       "13    889638837579907072           4735           27672   \n",
       "14    889531135344209921           2321           15359   \n",
       "15    889278841981685760           5637           25652   \n",
       "16    888917238123831296           4709           29611   \n",
       "17    888804989199671297           4559           26080   \n",
       "18    888554962724278272           3732           20290   \n",
       "19    888078434458587136           3653           22201   \n",
       "20    887705289381826560           5609           30779   \n",
       "21    887517139158093824          12082           46959   \n",
       "22    887473957103951883          18781           69871   \n",
       "23    887343217045368832          10737           34222   \n",
       "24    887101392804085760           6167           31061   \n",
       "25    886983233522544640           8084           35859   \n",
       "26    886736880519319552           3443           12306   \n",
       "27    886680336477933568           4610           22798   \n",
       "28    886366144734445568           3316           21524   \n",
       "29    886267009285017600              4             117   \n",
       "...                  ...            ...             ...   \n",
       "2324  666411507551481857            339             459   \n",
       "2325  666407126856765440             44             113   \n",
       "2326  666396247373291520             92             172   \n",
       "2327  666373753744588802            100             194   \n",
       "2328  666362758909284353            595             804   \n",
       "2329  666353288456101888             77             229   \n",
       "2330  666345417576210432            146             307   \n",
       "2331  666337882303524864             96             204   \n",
       "2332  666293911632134144            368             522   \n",
       "2333  666287406224695296             71             152   \n",
       "2334  666273097616637952             82             184   \n",
       "2335  666268910803644416             37             108   \n",
       "2336  666104133288665088           6871           14765   \n",
       "2337  666102155909144576             16              81   \n",
       "2338  666099513787052032             73             164   \n",
       "2339  666094000022159362             79             169   \n",
       "2340  666082916733198337             47             121   \n",
       "2341  666073100786774016            174             335   \n",
       "2342  666071193221509120             67             154   \n",
       "2343  666063827256086533            232             496   \n",
       "2344  666058600524156928             61             115   \n",
       "2345  666057090499244032            146             304   \n",
       "2346  666055525042405380            261             448   \n",
       "2347  666051853826850816            879            1253   \n",
       "2348  666050758794694657             60             136   \n",
       "2349  666049248165822465             41             111   \n",
       "2350  666044226329800704            147             311   \n",
       "2351  666033412701032449             47             128   \n",
       "2352  666029285002620928             48             132   \n",
       "2353  666020888022790149            532            2535   \n",
       "\n",
       "                                                   user  \n",
       "0     {'id': 4196983835, 'id_str': '4196983835', 'na...  \n",
       "1     {'id': 4196983835, 'id_str': '4196983835', 'na...  \n",
       "2     {'id': 4196983835, 'id_str': '4196983835', 'na...  \n",
       "3     {'id': 4196983835, 'id_str': '4196983835', 'na...  \n",
       "4     {'id': 4196983835, 'id_str': '4196983835', 'na...  \n",
       "5     {'id': 4196983835, 'id_str': '4196983835', 'na...  \n",
       "6     {'id': 4196983835, 'id_str': '4196983835', 'na...  \n",
       "7     {'id': 4196983835, 'id_str': '4196983835', 'na...  \n",
       "8     {'id': 4196983835, 'id_str': '4196983835', 'na...  \n",
       "9     {'id': 4196983835, 'id_str': '4196983835', 'na...  \n",
       "10    {'id': 4196983835, 'id_str': '4196983835', 'na...  \n",
       "11    {'id': 4196983835, 'id_str': '4196983835', 'na...  \n",
       "12    {'id': 4196983835, 'id_str': '4196983835', 'na...  \n",
       "13    {'id': 4196983835, 'id_str': '4196983835', 'na...  \n",
       "14    {'id': 4196983835, 'id_str': '4196983835', 'na...  \n",
       "15    {'id': 4196983835, 'id_str': '4196983835', 'na...  \n",
       "16    {'id': 4196983835, 'id_str': '4196983835', 'na...  \n",
       "17    {'id': 4196983835, 'id_str': '4196983835', 'na...  \n",
       "18    {'id': 4196983835, 'id_str': '4196983835', 'na...  \n",
       "19    {'id': 4196983835, 'id_str': '4196983835', 'na...  \n",
       "20    {'id': 4196983835, 'id_str': '4196983835', 'na...  \n",
       "21    {'id': 4196983835, 'id_str': '4196983835', 'na...  \n",
       "22    {'id': 4196983835, 'id_str': '4196983835', 'na...  \n",
       "23    {'id': 4196983835, 'id_str': '4196983835', 'na...  \n",
       "24    {'id': 4196983835, 'id_str': '4196983835', 'na...  \n",
       "25    {'id': 4196983835, 'id_str': '4196983835', 'na...  \n",
       "26    {'id': 4196983835, 'id_str': '4196983835', 'na...  \n",
       "27    {'id': 4196983835, 'id_str': '4196983835', 'na...  \n",
       "28    {'id': 4196983835, 'id_str': '4196983835', 'na...  \n",
       "29    {'id': 4196983835, 'id_str': '4196983835', 'na...  \n",
       "...                                                 ...  \n",
       "2324  {'id': 4196983835, 'id_str': '4196983835', 'na...  \n",
       "2325  {'id': 4196983835, 'id_str': '4196983835', 'na...  \n",
       "2326  {'id': 4196983835, 'id_str': '4196983835', 'na...  \n",
       "2327  {'id': 4196983835, 'id_str': '4196983835', 'na...  \n",
       "2328  {'id': 4196983835, 'id_str': '4196983835', 'na...  \n",
       "2329  {'id': 4196983835, 'id_str': '4196983835', 'na...  \n",
       "2330  {'id': 4196983835, 'id_str': '4196983835', 'na...  \n",
       "2331  {'id': 4196983835, 'id_str': '4196983835', 'na...  \n",
       "2332  {'id': 4196983835, 'id_str': '4196983835', 'na...  \n",
       "2333  {'id': 4196983835, 'id_str': '4196983835', 'na...  \n",
       "2334  {'id': 4196983835, 'id_str': '4196983835', 'na...  \n",
       "2335  {'id': 4196983835, 'id_str': '4196983835', 'na...  \n",
       "2336  {'id': 4196983835, 'id_str': '4196983835', 'na...  \n",
       "2337  {'id': 4196983835, 'id_str': '4196983835', 'na...  \n",
       "2338  {'id': 4196983835, 'id_str': '4196983835', 'na...  \n",
       "2339  {'id': 4196983835, 'id_str': '4196983835', 'na...  \n",
       "2340  {'id': 4196983835, 'id_str': '4196983835', 'na...  \n",
       "2341  {'id': 4196983835, 'id_str': '4196983835', 'na...  \n",
       "2342  {'id': 4196983835, 'id_str': '4196983835', 'na...  \n",
       "2343  {'id': 4196983835, 'id_str': '4196983835', 'na...  \n",
       "2344  {'id': 4196983835, 'id_str': '4196983835', 'na...  \n",
       "2345  {'id': 4196983835, 'id_str': '4196983835', 'na...  \n",
       "2346  {'id': 4196983835, 'id_str': '4196983835', 'na...  \n",
       "2347  {'id': 4196983835, 'id_str': '4196983835', 'na...  \n",
       "2348  {'id': 4196983835, 'id_str': '4196983835', 'na...  \n",
       "2349  {'id': 4196983835, 'id_str': '4196983835', 'na...  \n",
       "2350  {'id': 4196983835, 'id_str': '4196983835', 'na...  \n",
       "2351  {'id': 4196983835, 'id_str': '4196983835', 'na...  \n",
       "2352  {'id': 4196983835, 'id_str': '4196983835', 'na...  \n",
       "2353  {'id': 4196983835, 'id_str': '4196983835', 'na...  \n",
       "\n",
       "[2354 rows x 4 columns]"
      ]
     },
     "execution_count": 601,
     "metadata": {},
     "output_type": "execute_result"
    }
   ],
   "source": [
    "# selecting the important columns\n",
    "tweets[[\"id\", \"retweet_count\", \"favorite_count\",\"user\"]]"
   ]
  },
  {
   "cell_type": "code",
   "execution_count": 602,
   "metadata": {},
   "outputs": [
    {
     "name": "stdout",
     "output_type": "stream",
     "text": [
      "<class 'pandas.core.frame.DataFrame'>\n",
      "RangeIndex: 2354 entries, 0 to 2353\n",
      "Data columns (total 4 columns):\n",
      "id                2354 non-null int64\n",
      "retweet_count     2354 non-null int64\n",
      "favorite_count    2354 non-null int64\n",
      "user              2354 non-null object\n",
      "dtypes: int64(3), object(1)\n",
      "memory usage: 73.6+ KB\n"
     ]
    }
   ],
   "source": [
    "# Moving the 3 columns into a separate variable\n",
    "tweet_df = tweets[['id','retweet_count','favorite_count','user']]\n",
    "tweet_df.info()\n"
   ]
  },
  {
   "cell_type": "code",
   "execution_count": 603,
   "metadata": {},
   "outputs": [
    {
     "data": {
      "text/plain": [
       "(2354, 4)"
      ]
     },
     "execution_count": 603,
     "metadata": {},
     "output_type": "execute_result"
    }
   ],
   "source": [
    "tweet_df.shape"
   ]
  },
  {
   "cell_type": "code",
   "execution_count": null,
   "metadata": {},
   "outputs": [],
   "source": []
  },
  {
   "cell_type": "markdown",
   "metadata": {},
   "source": [
    "### The Image Prediction data"
   ]
  },
  {
   "cell_type": "markdown",
   "metadata": {},
   "source": [
    "#### Loading the data from the provided file \"tweet-json.txt\" as the request was failing from my end and wasn't able to get the data from the API"
   ]
  },
  {
   "cell_type": "code",
   "execution_count": 604,
   "metadata": {},
   "outputs": [],
   "source": [
    "tsvData = pd.read_csv(\"image-predictions-3.tsv\",delimiter = '\\t')"
   ]
  },
  {
   "cell_type": "code",
   "execution_count": 605,
   "metadata": {},
   "outputs": [
    {
     "data": {
      "text/html": [
       "<div>\n",
       "<style scoped>\n",
       "    .dataframe tbody tr th:only-of-type {\n",
       "        vertical-align: middle;\n",
       "    }\n",
       "\n",
       "    .dataframe tbody tr th {\n",
       "        vertical-align: top;\n",
       "    }\n",
       "\n",
       "    .dataframe thead th {\n",
       "        text-align: right;\n",
       "    }\n",
       "</style>\n",
       "<table border=\"1\" class=\"dataframe\">\n",
       "  <thead>\n",
       "    <tr style=\"text-align: right;\">\n",
       "      <th></th>\n",
       "      <th>tweet_id</th>\n",
       "      <th>jpg_url</th>\n",
       "      <th>img_num</th>\n",
       "      <th>p1</th>\n",
       "      <th>p1_conf</th>\n",
       "      <th>p1_dog</th>\n",
       "      <th>p2</th>\n",
       "      <th>p2_conf</th>\n",
       "      <th>p2_dog</th>\n",
       "      <th>p3</th>\n",
       "      <th>p3_conf</th>\n",
       "      <th>p3_dog</th>\n",
       "    </tr>\n",
       "  </thead>\n",
       "  <tbody>\n",
       "    <tr>\n",
       "      <th>0</th>\n",
       "      <td>666020888022790149</td>\n",
       "      <td>https://pbs.twimg.com/media/CT4udn0WwAA0aMy.jpg</td>\n",
       "      <td>1</td>\n",
       "      <td>Welsh_springer_spaniel</td>\n",
       "      <td>0.465074</td>\n",
       "      <td>True</td>\n",
       "      <td>collie</td>\n",
       "      <td>0.156665</td>\n",
       "      <td>True</td>\n",
       "      <td>Shetland_sheepdog</td>\n",
       "      <td>0.061428</td>\n",
       "      <td>True</td>\n",
       "    </tr>\n",
       "    <tr>\n",
       "      <th>1</th>\n",
       "      <td>666029285002620928</td>\n",
       "      <td>https://pbs.twimg.com/media/CT42GRgUYAA5iDo.jpg</td>\n",
       "      <td>1</td>\n",
       "      <td>redbone</td>\n",
       "      <td>0.506826</td>\n",
       "      <td>True</td>\n",
       "      <td>miniature_pinscher</td>\n",
       "      <td>0.074192</td>\n",
       "      <td>True</td>\n",
       "      <td>Rhodesian_ridgeback</td>\n",
       "      <td>0.072010</td>\n",
       "      <td>True</td>\n",
       "    </tr>\n",
       "  </tbody>\n",
       "</table>\n",
       "</div>"
      ],
      "text/plain": [
       "             tweet_id                                          jpg_url  \\\n",
       "0  666020888022790149  https://pbs.twimg.com/media/CT4udn0WwAA0aMy.jpg   \n",
       "1  666029285002620928  https://pbs.twimg.com/media/CT42GRgUYAA5iDo.jpg   \n",
       "\n",
       "   img_num                      p1   p1_conf  p1_dog                  p2  \\\n",
       "0        1  Welsh_springer_spaniel  0.465074    True              collie   \n",
       "1        1                 redbone  0.506826    True  miniature_pinscher   \n",
       "\n",
       "    p2_conf  p2_dog                   p3   p3_conf  p3_dog  \n",
       "0  0.156665    True    Shetland_sheepdog  0.061428    True  \n",
       "1  0.074192    True  Rhodesian_ridgeback  0.072010    True  "
      ]
     },
     "execution_count": 605,
     "metadata": {},
     "output_type": "execute_result"
    }
   ],
   "source": [
    "tsvData.head(2)"
   ]
  },
  {
   "cell_type": "code",
   "execution_count": 606,
   "metadata": {},
   "outputs": [
    {
     "name": "stdout",
     "output_type": "stream",
     "text": [
      "<class 'pandas.core.frame.DataFrame'>\n",
      "RangeIndex: 2075 entries, 0 to 2074\n",
      "Data columns (total 12 columns):\n",
      "tweet_id    2075 non-null int64\n",
      "jpg_url     2075 non-null object\n",
      "img_num     2075 non-null int64\n",
      "p1          2075 non-null object\n",
      "p1_conf     2075 non-null float64\n",
      "p1_dog      2075 non-null bool\n",
      "p2          2075 non-null object\n",
      "p2_conf     2075 non-null float64\n",
      "p2_dog      2075 non-null bool\n",
      "p3          2075 non-null object\n",
      "p3_conf     2075 non-null float64\n",
      "p3_dog      2075 non-null bool\n",
      "dtypes: bool(3), float64(3), int64(2), object(4)\n",
      "memory usage: 152.1+ KB\n"
     ]
    }
   ],
   "source": [
    "tsvData.info()"
   ]
  },
  {
   "cell_type": "code",
   "execution_count": 607,
   "metadata": {},
   "outputs": [
    {
     "data": {
      "text/plain": [
       "(2075, 12)"
      ]
     },
     "execution_count": 607,
     "metadata": {},
     "output_type": "execute_result"
    }
   ],
   "source": [
    "tsvData.shape"
   ]
  },
  {
   "cell_type": "code",
   "execution_count": null,
   "metadata": {},
   "outputs": [],
   "source": []
  },
  {
   "cell_type": "markdown",
   "metadata": {},
   "source": [
    "## Exploring the Gathered Data"
   ]
  },
  {
   "cell_type": "markdown",
   "metadata": {},
   "source": [
    "#### Exploring Twitter Archive data"
   ]
  },
  {
   "cell_type": "code",
   "execution_count": 608,
   "metadata": {},
   "outputs": [
    {
     "data": {
      "text/plain": [
       "array([  13,   12,   14,    5,   17,   11,   10,  420,  666,    6,   15,\n",
       "        182,  960,    0,   75,    7,   84,    9,   24,    8,    1,   27,\n",
       "          3,    4,  165, 1776,  204,   50,   99,   80,   45,   60,   44,\n",
       "        143,  121,   20,   26,    2,  144,   88])"
      ]
     },
     "execution_count": 608,
     "metadata": {},
     "output_type": "execute_result"
    }
   ],
   "source": [
    "df.rating_numerator.unique()"
   ]
  },
  {
   "cell_type": "code",
   "execution_count": 609,
   "metadata": {},
   "outputs": [
    {
     "data": {
      "text/plain": [
       "array(['None', 'doggo'], dtype=object)"
      ]
     },
     "execution_count": 609,
     "metadata": {},
     "output_type": "execute_result"
    }
   ],
   "source": [
    "df.doggo.unique()"
   ]
  },
  {
   "cell_type": "code",
   "execution_count": 610,
   "metadata": {},
   "outputs": [
    {
     "data": {
      "text/plain": [
       "2356"
      ]
     },
     "execution_count": 610,
     "metadata": {},
     "output_type": "execute_result"
    }
   ],
   "source": [
    "df.tweet_id.nunique()"
   ]
  },
  {
   "cell_type": "code",
   "execution_count": 611,
   "metadata": {},
   "outputs": [
    {
     "data": {
      "text/plain": [
       "array(['<a href=\"http://twitter.com/download/iphone\" rel=\"nofollow\">Twitter for iPhone</a>',\n",
       "       '<a href=\"http://twitter.com\" rel=\"nofollow\">Twitter Web Client</a>',\n",
       "       '<a href=\"http://vine.co\" rel=\"nofollow\">Vine - Make a Scene</a>',\n",
       "       '<a href=\"https://about.twitter.com/products/tweetdeck\" rel=\"nofollow\">TweetDeck</a>'],\n",
       "      dtype=object)"
      ]
     },
     "execution_count": 611,
     "metadata": {},
     "output_type": "execute_result"
    }
   ],
   "source": [
    "df.source.unique()"
   ]
  },
  {
   "cell_type": "code",
   "execution_count": 612,
   "metadata": {},
   "outputs": [
    {
     "data": {
      "text/plain": [
       "0       This is Phineas. He's a mystical boy. Only eve...\n",
       "1       This is Tilly. She's just checking pup on you....\n",
       "2       This is Archie. He is a rare Norwegian Pouncin...\n",
       "3       This is Darla. She commenced a snooze mid meal...\n",
       "4       This is Franklin. He would like you to stop ca...\n",
       "5       Here we have a majestic great white breaching ...\n",
       "6       Meet Jax. He enjoys ice cream so much he gets ...\n",
       "7       When you watch your owner call another dog a g...\n",
       "8       This is Zoey. She doesn't want to be one of th...\n",
       "9       This is Cassie. She is a college pup. Studying...\n",
       "10      This is Koda. He is a South Australian decksha...\n",
       "11      This is Bruno. He is a service shark. Only get...\n",
       "12      Here's a puppo that seems to be on the fence a...\n",
       "13      This is Ted. He does his best. Sometimes that'...\n",
       "14      This is Stuart. He's sporting his favorite fan...\n",
       "15      This is Oliver. You're witnessing one of his m...\n",
       "16      This is Jim. He found a fren. Taught him how t...\n",
       "17      This is Zeke. He has a new stick. Very proud o...\n",
       "18      This is Ralphus. He's powering up. Attempting ...\n",
       "19      RT @dog_rates: This is Canela. She attempted s...\n",
       "20      This is Gerald. He was just told he didn't get...\n",
       "21      This is Jeffrey. He has a monopoly on the pool...\n",
       "22      I've yet to rate a Venezuelan Hover Wiener. Th...\n",
       "23      This is Canela. She attempted some fancy porch...\n",
       "24      You may not have known you needed to see this ...\n",
       "25      This... is a Jubilant Antarctic House Bear. We...\n",
       "26      This is Maya. She's very shy. Rarely leaves he...\n",
       "27      This is Mingus. He's a wonderful father to his...\n",
       "28      This is Derek. He's late for a dog meeting. 13...\n",
       "29      This is Roscoe. Another pupper fallen victim t...\n",
       "                              ...                        \n",
       "2326    This is quite the dog. Gets really excited whe...\n",
       "2327    This is a southern Vesuvius bumblegruff. Can d...\n",
       "2328    Oh goodness. A super rare northeast Qdoba kang...\n",
       "2329    Those are sunglasses and a jean jacket. 11/10 ...\n",
       "2330    Unique dog here. Very small. Lives in containe...\n",
       "2331    Here we have a mixed Asiago from the Galápagos...\n",
       "2332    Look at this jokester thinking seat belt laws ...\n",
       "2333    This is an extremely rare horned Parthenon. No...\n",
       "2334    This is a funny dog. Weird toes. Won't come do...\n",
       "2335    This is an Albanian 3 1/2 legged  Episcopalian...\n",
       "2336       Can take selfies 11/10 https://t.co/ws2AMaNwPW\n",
       "2337    Very concerned about fellow dog trapped in com...\n",
       "2338    Not familiar with this breed. No tail (weird)....\n",
       "2339    Oh my. Here you are seeing an Adobe Setter giv...\n",
       "2340    Can stand on stump for what seems like a while...\n",
       "2341    This appears to be a Mongolian Presbyterian mi...\n",
       "2342    Here we have a well-established sunblockerspan...\n",
       "2343    Let's hope this flight isn't Malaysian (lol). ...\n",
       "2344    Here we have a northern speckled Rhododendron....\n",
       "2345    This is the happiest dog you will ever see. Ve...\n",
       "2346    Here is the Rand Paul of retrievers folks! He'...\n",
       "2347    My oh my. This is a rare blond Canadian terrie...\n",
       "2348    Here is a Siberian heavily armored polar bear ...\n",
       "2349    This is an odd dog. Hard on the outside but lo...\n",
       "2350    This is a truly beautiful English Wilson Staff...\n",
       "2351    Here we have a 1949 1st generation vulpix. Enj...\n",
       "2352    This is a purebred Piers Morgan. Loves to Netf...\n",
       "2353    Here is a very happy pup. Big fan of well-main...\n",
       "2354    This is a western brown Mitsubishi terrier. Up...\n",
       "2355    Here we have a Japanese Irish Setter. Lost eye...\n",
       "Name: text, Length: 2356, dtype: object"
      ]
     },
     "execution_count": 612,
     "metadata": {},
     "output_type": "execute_result"
    }
   ],
   "source": [
    "df.text.unique()\n",
    "df.text"
   ]
  },
  {
   "cell_type": "code",
   "execution_count": 613,
   "metadata": {},
   "outputs": [
    {
     "data": {
      "text/plain": [
       "array(['https://twitter.com/dog_rates/status/892420643555336193/photo/1',\n",
       "       'https://twitter.com/dog_rates/status/892177421306343426/photo/1',\n",
       "       'https://twitter.com/dog_rates/status/891815181378084864/photo/1',\n",
       "       ...,\n",
       "       'https://twitter.com/dog_rates/status/666033412701032449/photo/1',\n",
       "       'https://twitter.com/dog_rates/status/666029285002620928/photo/1',\n",
       "       'https://twitter.com/dog_rates/status/666020888022790149/photo/1'],\n",
       "      dtype=object)"
      ]
     },
     "execution_count": 613,
     "metadata": {},
     "output_type": "execute_result"
    }
   ],
   "source": [
    "df.expanded_urls.unique()"
   ]
  },
  {
   "cell_type": "code",
   "execution_count": 614,
   "metadata": {},
   "outputs": [
    {
     "data": {
      "text/plain": [
       "None        745\n",
       "a            55\n",
       "Charlie      12\n",
       "Oliver       11\n",
       "Lucy         11\n",
       "Cooper       11\n",
       "Penny        10\n",
       "Tucker       10\n",
       "Lola         10\n",
       "Winston       9\n",
       "Bo            9\n",
       "Sadie         8\n",
       "the           8\n",
       "Bailey        7\n",
       "Buddy         7\n",
       "an            7\n",
       "Daisy         7\n",
       "Toby          7\n",
       "Jack          6\n",
       "Milo          6\n",
       "Dave          6\n",
       "Scout         6\n",
       "Stanley       6\n",
       "Koda          6\n",
       "Rusty         6\n",
       "Leo           6\n",
       "Jax           6\n",
       "Bella         6\n",
       "Oscar         6\n",
       "Bentley       5\n",
       "           ... \n",
       "Snoopy        1\n",
       "Skittles      1\n",
       "Butters       1\n",
       "Augie         1\n",
       "Einstein      1\n",
       "Edgar         1\n",
       "Sage          1\n",
       "Oddie         1\n",
       "Tayzie        1\n",
       "Hall          1\n",
       "Durg          1\n",
       "Linus         1\n",
       "Filup         1\n",
       "Kloey         1\n",
       "Pip           1\n",
       "Ashleigh      1\n",
       "Kellogg       1\n",
       "Randall       1\n",
       "Ralphé        1\n",
       "Berb          1\n",
       "Alfy          1\n",
       "Fwed          1\n",
       "Aiden         1\n",
       "Zooey         1\n",
       "Ralpher       1\n",
       "Cecil         1\n",
       "Billl         1\n",
       "Hero          1\n",
       "Rinna         1\n",
       "Saydee        1\n",
       "Name: name, Length: 957, dtype: int64"
      ]
     },
     "execution_count": 614,
     "metadata": {},
     "output_type": "execute_result"
    }
   ],
   "source": [
    "df.name.value_counts()"
   ]
  },
  {
   "cell_type": "code",
   "execution_count": null,
   "metadata": {},
   "outputs": [],
   "source": []
  },
  {
   "cell_type": "code",
   "execution_count": null,
   "metadata": {},
   "outputs": [],
   "source": []
  },
  {
   "cell_type": "code",
   "execution_count": 615,
   "metadata": {},
   "outputs": [
    {
     "data": {
      "text/plain": [
       "262     Meet Indie. She's not a fan of baths but she's...\n",
       "273     RT @dog_rates: This is Pipsy. He is a fluffbal...\n",
       "320     Meet Chester (bottom) &amp; Harold (top). They...\n",
       "461     Say hello to Eugene &amp; Patti Melt. No matte...\n",
       "485     RT @dog_rates: Meet Beau &amp; Wilbur. Wilbur ...\n",
       "516     Meet Sam. She smiles 24/7 &amp; secretly aspir...\n",
       "799     Meet Roosevelt. He's preparing for takeoff. Ma...\n",
       "889     Meet Maggie &amp; Lila. Maggie is the doggo, L...\n",
       "898     This is Lilli Bee &amp; Honey Bear. Unfortunat...\n",
       "976     Meet Jax &amp; Jil. Jil is yelling the pledge ...\n",
       "1104    Meet Buckley. His family &amp; some neighbors ...\n",
       "1179    Meet Sid &amp; Murphy. Murphy floats alongside...\n",
       "1199    Meet Jennifur. She's supposed to be navigating...\n",
       "1222    Meet Travis and Flurp. Travis is pretty chill ...\n",
       "1274    From left to right:\\nCletus, Jerome, Alejandro...\n",
       "1366    Meet Rambo &amp; Kiwi. Rambo's the pup with th...\n",
       "1421    Meet Beau &amp; Wilbur. Wilbur stole Beau's be...\n",
       "1465    Meet Oliviér. He takes killer selfies. Has a d...\n",
       "1481    This is Sadie and her 2 pups Shebang &amp; Ruf...\n",
       "1508    When bae says they can't go out but you see th...\n",
       "1524    This is Lolo. She's America af. Behind in scie...\n",
       "1538    Meet Fynn &amp; Taco. Fynn is an all-powerful ...\n",
       "1569    Meet Trooper &amp; Maya. Trooper protects Maya...\n",
       "1593    Say hello to Crimson. He's a Speckled Winnebag...\n",
       "1621    Meet Bruiser &amp; Charlie. They are the best ...\n",
       "1646    Here we see a faulty pupper. Might need to rep...\n",
       "1707    Great picture here. Dog on the right panicked ...\n",
       "1763    Touching scene here. Really stirs up the emoti...\n",
       "1795    Meet Tassy &amp; Bee. Tassy is pretty chill, b...\n",
       "1812    Say hello to Penny &amp; Gizmo. They are pract...\n",
       "1817    This is Godzilla pupper. He had a ruff childho...\n",
       "1842    &amp; this is Yoshi. Another world record cont...\n",
       "1897    Meet Rufio. He is unaware of the pink legless ...\n",
       "1899    Meet Jeb &amp; Bush. Jeb is somehow stuck in t...\n",
       "1901    Two gorgeous dogs here. Little waddling dog is...\n",
       "1913    Meet Chesney. On the outside he stays calm &am...\n",
       "1931    Meet Daisy. She has no eyes &amp; her face has...\n",
       "2031    When you try to recreate the scene from Lady &...\n",
       "2037    This is the best thing I've ever seen so sprea...\n",
       "2064    Meet Holly. She's trying to teach small human-...\n",
       "2084    Say hello to Andy. He can balance on one foot,...\n",
       "2096    Say hello to Gin &amp; Tonic. They're having a...\n",
       "2137    This is Ben &amp; Carson. It's impossible for ...\n",
       "2177    Here we have Pancho and Peaches. Pancho is a C...\n",
       "2190    Meet Jaycob. He got scared of the vacuum. Hide...\n",
       "2196    Say hello to Bobb. Bobb is a Golden High Fescu...\n",
       "2207    This is Timofy. He's a pilot for Southwest. It...\n",
       "2210    Say hello to Kallie. There was a tornado in th...\n",
       "2216    This is Spark. He's nervous. Other dog hasn't ...\n",
       "2232    These two dogs are Bo &amp; Smittens. Smittens...\n",
       "2246    This is Tedrick. He lives on the edge. Needs s...\n",
       "2268    This is Dook &amp; Milo. Dook is struggling to...\n",
       "2293    This is Pipsy. He is a fluffball. Enjoys trave...\n",
       "2306    These are Peruvian Feldspars. Their names are ...\n",
       "Name: text, dtype: object"
      ]
     },
     "execution_count": 615,
     "metadata": {},
     "output_type": "execute_result"
    }
   ],
   "source": [
    "# Getting all the values of text lines that contain &amp;\n",
    "df.text[df.text.str.contains('&amp;')]"
   ]
  },
  {
   "cell_type": "code",
   "execution_count": null,
   "metadata": {},
   "outputs": [],
   "source": []
  },
  {
   "cell_type": "markdown",
   "metadata": {},
   "source": [
    "#### Exploring the Image Data"
   ]
  },
  {
   "cell_type": "code",
   "execution_count": 616,
   "metadata": {},
   "outputs": [
    {
     "data": {
      "text/plain": [
       "golden_retriever             150\n",
       "Labrador_retriever           100\n",
       "Pembroke                      89\n",
       "Chihuahua                     83\n",
       "pug                           57\n",
       "chow                          44\n",
       "Samoyed                       43\n",
       "toy_poodle                    39\n",
       "Pomeranian                    38\n",
       "malamute                      30\n",
       "cocker_spaniel                30\n",
       "French_bulldog                26\n",
       "miniature_pinscher            23\n",
       "Chesapeake_Bay_retriever      23\n",
       "seat_belt                     22\n",
       "Staffordshire_bullterrier     20\n",
       "German_shepherd               20\n",
       "Siberian_husky                20\n",
       "web_site                      19\n",
       "Cardigan                      19\n",
       "Eskimo_dog                    18\n",
       "teddy                         18\n",
       "beagle                        18\n",
       "Shetland_sheepdog             18\n",
       "Maltese_dog                   18\n",
       "Lakeland_terrier              17\n",
       "Shih-Tzu                      17\n",
       "Rottweiler                    17\n",
       "kuvasz                        16\n",
       "Italian_greyhound             16\n",
       "                            ... \n",
       "clumber                        1\n",
       "school_bus                     1\n",
       "bearskin                       1\n",
       "bighorn                        1\n",
       "pitcher                        1\n",
       "black-footed_ferret            1\n",
       "quilt                          1\n",
       "piggy_bank                     1\n",
       "bookshop                       1\n",
       "polecat                        1\n",
       "crash_helmet                   1\n",
       "giant_panda                    1\n",
       "beach_wagon                    1\n",
       "tick                           1\n",
       "bow                            1\n",
       "sundial                        1\n",
       "nail                           1\n",
       "silky_terrier                  1\n",
       "pot                            1\n",
       "coil                           1\n",
       "revolver                       1\n",
       "rapeseed                       1\n",
       "sliding_door                   1\n",
       "limousine                      1\n",
       "bib                            1\n",
       "damselfly                      1\n",
       "sulphur-crested_cockatoo       1\n",
       "rain_barrel                    1\n",
       "Madagascar_cat                 1\n",
       "bookcase                       1\n",
       "Name: p1, Length: 378, dtype: int64"
      ]
     },
     "execution_count": 616,
     "metadata": {},
     "output_type": "execute_result"
    }
   ],
   "source": [
    "# Explore the data for more details\n",
    "tsvData.p1.value_counts()"
   ]
  },
  {
   "cell_type": "code",
   "execution_count": 617,
   "metadata": {},
   "outputs": [
    {
     "data": {
      "text/plain": [
       "Labrador_retriever                104\n",
       "golden_retriever                   92\n",
       "Cardigan                           73\n",
       "Chihuahua                          44\n",
       "Pomeranian                         42\n",
       "Chesapeake_Bay_retriever           41\n",
       "French_bulldog                     41\n",
       "toy_poodle                         37\n",
       "cocker_spaniel                     34\n",
       "Siberian_husky                     33\n",
       "miniature_poodle                   33\n",
       "beagle                             28\n",
       "collie                             27\n",
       "Eskimo_dog                         27\n",
       "Pembroke                           27\n",
       "kuvasz                             26\n",
       "Italian_greyhound                  22\n",
       "American_Staffordshire_terrier     21\n",
       "Pekinese                           21\n",
       "toy_terrier                        20\n",
       "miniature_pinscher                 20\n",
       "malinois                           20\n",
       "Samoyed                            20\n",
       "chow                               20\n",
       "Boston_bull                        19\n",
       "Norwegian_elkhound                 19\n",
       "Staffordshire_bullterrier          18\n",
       "pug                                17\n",
       "Irish_terrier                      17\n",
       "Shih-Tzu                           16\n",
       "                                 ... \n",
       "hummingbird                         1\n",
       "maillot                             1\n",
       "indri                               1\n",
       "Windsor_tie                         1\n",
       "sarong                              1\n",
       "sandal                              1\n",
       "hamper                              1\n",
       "pickup                              1\n",
       "washbasin                           1\n",
       "wallaby                             1\n",
       "shoji                               1\n",
       "lawn_mower                          1\n",
       "volcano                             1\n",
       "cab                                 1\n",
       "paper_towel                         1\n",
       "dining_table                        1\n",
       "screw                               1\n",
       "dock                                1\n",
       "triceratops                         1\n",
       "spotlight                           1\n",
       "komondor                            1\n",
       "can_opener                          1\n",
       "African_hunting_dog                 1\n",
       "saltshaker                          1\n",
       "water_buffalo                       1\n",
       "lampshade                           1\n",
       "space_heater                        1\n",
       "cornet                              1\n",
       "rule                                1\n",
       "sulphur_butterfly                   1\n",
       "Name: p2, Length: 405, dtype: int64"
      ]
     },
     "execution_count": 617,
     "metadata": {},
     "output_type": "execute_result"
    }
   ],
   "source": [
    "tsvData.p2.value_counts()"
   ]
  },
  {
   "cell_type": "code",
   "execution_count": null,
   "metadata": {},
   "outputs": [],
   "source": []
  },
  {
   "cell_type": "markdown",
   "metadata": {},
   "source": [
    "# Quality and Tidiness Issues"
   ]
  },
  {
   "attachments": {},
   "cell_type": "markdown",
   "metadata": {},
   "source": [
    "**Quality issues:**\n",
    "\n",
    "1) Convert tweet_id column to a string in archive dataframe, df\n",
    "\n",
    "2) Replace \"& amp;\" in text column of archive dataframe, df , with just \"and\"\n",
    "\n",
    "3) Capitalize the First letter of p1,p2 and p3 columns and remove \"_\" from their values of image dataframe, tsvData\n",
    "\n",
    "4) Remove columns that contain no information\n",
    "\n",
    "5) Convert id column to string in tweet_df dataframe\n",
    "\n",
    "6) Few name records in Archive dataframe, df,  contain articles (the, an, a) instead of actual names. Remove them for consistency. (Replace them with NaN)\n",
    "\n",
    "7) Rename column in tweet_df  \"id\" column name to \"tweet_id\" to merge it with the other 2 dataframes\n",
    "\n",
    "8) Convert tweet_id to a string in image dataframe, tsvData\n",
    "\n",
    "9) The ratings are inconsitent "
   ]
  },
  {
   "cell_type": "markdown",
   "metadata": {},
   "source": [
    "**Tidiness Issues:**\n",
    "\n",
    "1) Convert timestamp from string to datetime in the archive dataframe, df\n",
    "\n",
    "2) Combine Dog Stages into one single column instead of multiple columns of that data"
   ]
  },
  {
   "cell_type": "code",
   "execution_count": null,
   "metadata": {},
   "outputs": [],
   "source": []
  },
  {
   "cell_type": "markdown",
   "metadata": {},
   "source": [
    "# Cleaning the Data"
   ]
  },
  {
   "cell_type": "code",
   "execution_count": 618,
   "metadata": {},
   "outputs": [],
   "source": [
    "# Creating copies of the dataframe to clean\n",
    "\n",
    "df_clean = df.copy()\n",
    "tsvData_clean = tsvData.copy()\n",
    "tweet_df_clean = tweet_df.copy()"
   ]
  },
  {
   "cell_type": "code",
   "execution_count": 619,
   "metadata": {},
   "outputs": [
    {
     "name": "stdout",
     "output_type": "stream",
     "text": [
      "**********************************************************************\n",
      "<class 'pandas.core.frame.DataFrame'>\n",
      "RangeIndex: 2356 entries, 0 to 2355\n",
      "Data columns (total 17 columns):\n",
      "tweet_id                      2356 non-null int64\n",
      "in_reply_to_status_id         78 non-null float64\n",
      "in_reply_to_user_id           78 non-null float64\n",
      "timestamp                     2356 non-null object\n",
      "source                        2356 non-null object\n",
      "text                          2356 non-null object\n",
      "retweeted_status_id           181 non-null float64\n",
      "retweeted_status_user_id      181 non-null float64\n",
      "retweeted_status_timestamp    181 non-null object\n",
      "expanded_urls                 2297 non-null object\n",
      "rating_numerator              2356 non-null int64\n",
      "rating_denominator            2356 non-null int64\n",
      "name                          2356 non-null object\n",
      "doggo                         2356 non-null object\n",
      "floofer                       2356 non-null object\n",
      "pupper                        2356 non-null object\n",
      "puppo                         2356 non-null object\n",
      "dtypes: float64(4), int64(3), object(10)\n",
      "memory usage: 313.0+ KB\n",
      "**********************************************************************\n",
      "<class 'pandas.core.frame.DataFrame'>\n",
      "RangeIndex: 2075 entries, 0 to 2074\n",
      "Data columns (total 12 columns):\n",
      "tweet_id    2075 non-null int64\n",
      "jpg_url     2075 non-null object\n",
      "img_num     2075 non-null int64\n",
      "p1          2075 non-null object\n",
      "p1_conf     2075 non-null float64\n",
      "p1_dog      2075 non-null bool\n",
      "p2          2075 non-null object\n",
      "p2_conf     2075 non-null float64\n",
      "p2_dog      2075 non-null bool\n",
      "p3          2075 non-null object\n",
      "p3_conf     2075 non-null float64\n",
      "p3_dog      2075 non-null bool\n",
      "dtypes: bool(3), float64(3), int64(2), object(4)\n",
      "memory usage: 152.1+ KB\n",
      "**********************************************************************\n",
      "<class 'pandas.core.frame.DataFrame'>\n",
      "RangeIndex: 2354 entries, 0 to 2353\n",
      "Data columns (total 4 columns):\n",
      "id                2354 non-null int64\n",
      "retweet_count     2354 non-null int64\n",
      "favorite_count    2354 non-null int64\n",
      "user              2354 non-null object\n",
      "dtypes: int64(3), object(1)\n",
      "memory usage: 73.6+ KB\n",
      "**********************************************************************\n"
     ]
    }
   ],
   "source": [
    "# Summary of all of the copied dataframes\n",
    "\n",
    "print(\"*\" * 70)\n",
    "df_clean.info()\n",
    "print(\"*\" * 70)\n",
    "tsvData_clean.info()\n",
    "print(\"*\" * 70)\n",
    "tweet_df_clean.info()\n",
    "print(\"*\" * 70)"
   ]
  },
  {
   "cell_type": "code",
   "execution_count": null,
   "metadata": {},
   "outputs": [],
   "source": []
  },
  {
   "cell_type": "markdown",
   "metadata": {},
   "source": [
    "### Quality issue 1:\n",
    "Convert tweet_id column to a string in archive dataframe, df"
   ]
  },
  {
   "cell_type": "code",
   "execution_count": 620,
   "metadata": {},
   "outputs": [
    {
     "name": "stdout",
     "output_type": "stream",
     "text": [
      "<class 'pandas.core.frame.DataFrame'>\n",
      "RangeIndex: 2356 entries, 0 to 2355\n",
      "Data columns (total 17 columns):\n",
      "tweet_id                      2356 non-null object\n",
      "in_reply_to_status_id         78 non-null float64\n",
      "in_reply_to_user_id           78 non-null float64\n",
      "timestamp                     2356 non-null object\n",
      "source                        2356 non-null object\n",
      "text                          2356 non-null object\n",
      "retweeted_status_id           181 non-null float64\n",
      "retweeted_status_user_id      181 non-null float64\n",
      "retweeted_status_timestamp    181 non-null object\n",
      "expanded_urls                 2297 non-null object\n",
      "rating_numerator              2356 non-null int64\n",
      "rating_denominator            2356 non-null int64\n",
      "name                          2356 non-null object\n",
      "doggo                         2356 non-null object\n",
      "floofer                       2356 non-null object\n",
      "pupper                        2356 non-null object\n",
      "puppo                         2356 non-null object\n",
      "dtypes: float64(4), int64(2), object(11)\n",
      "memory usage: 313.0+ KB\n"
     ]
    }
   ],
   "source": [
    "df_clean['tweet_id'] = df_clean['tweet_id'].astype(str)\n",
    "df_clean.info()"
   ]
  },
  {
   "cell_type": "code",
   "execution_count": null,
   "metadata": {},
   "outputs": [],
   "source": []
  },
  {
   "cell_type": "markdown",
   "metadata": {},
   "source": [
    "### Quality issue 2:\n",
    "Replace '& amp;' in text column of archive dataframe, df, with just \"and\""
   ]
  },
  {
   "cell_type": "code",
   "execution_count": 621,
   "metadata": {},
   "outputs": [
    {
     "data": {
      "text/plain": [
       "Series([], Name: text, dtype: object)"
      ]
     },
     "execution_count": 621,
     "metadata": {},
     "output_type": "execute_result"
    }
   ],
   "source": [
    "df_clean['text'] = df_clean['text'].str.replace('&amp;','and')\n",
    "\n",
    "# verifying if there are still such values in text column \n",
    "df_clean.text[df_clean.text.str.contains('&amp;')]"
   ]
  },
  {
   "cell_type": "code",
   "execution_count": null,
   "metadata": {},
   "outputs": [],
   "source": []
  },
  {
   "cell_type": "markdown",
   "metadata": {},
   "source": [
    "### Quality Issue 3: \n",
    "Capitalize the First letter of p1,p2 and p3 columns and remove \"_\" from their values of image dataframe, tsvData"
   ]
  },
  {
   "cell_type": "code",
   "execution_count": 622,
   "metadata": {},
   "outputs": [],
   "source": [
    "tsvData_clean['p1'] = tsvData_clean['p1'].str.replace('_', ' ').str.title()\n",
    "tsvData_clean['p2'] = tsvData_clean['p2'].str.replace('_', ' ').str.title()\n",
    "tsvData_clean['p3'] = tsvData_clean['p3'].str.replace('_', ' ').str.title()"
   ]
  },
  {
   "cell_type": "code",
   "execution_count": 623,
   "metadata": {},
   "outputs": [
    {
     "data": {
      "text/html": [
       "<div>\n",
       "<style scoped>\n",
       "    .dataframe tbody tr th:only-of-type {\n",
       "        vertical-align: middle;\n",
       "    }\n",
       "\n",
       "    .dataframe tbody tr th {\n",
       "        vertical-align: top;\n",
       "    }\n",
       "\n",
       "    .dataframe thead th {\n",
       "        text-align: right;\n",
       "    }\n",
       "</style>\n",
       "<table border=\"1\" class=\"dataframe\">\n",
       "  <thead>\n",
       "    <tr style=\"text-align: right;\">\n",
       "      <th></th>\n",
       "      <th>tweet_id</th>\n",
       "      <th>jpg_url</th>\n",
       "      <th>img_num</th>\n",
       "      <th>p1</th>\n",
       "      <th>p1_conf</th>\n",
       "      <th>p1_dog</th>\n",
       "      <th>p2</th>\n",
       "      <th>p2_conf</th>\n",
       "      <th>p2_dog</th>\n",
       "      <th>p3</th>\n",
       "      <th>p3_conf</th>\n",
       "      <th>p3_dog</th>\n",
       "    </tr>\n",
       "  </thead>\n",
       "  <tbody>\n",
       "    <tr>\n",
       "      <th>0</th>\n",
       "      <td>666020888022790149</td>\n",
       "      <td>https://pbs.twimg.com/media/CT4udn0WwAA0aMy.jpg</td>\n",
       "      <td>1</td>\n",
       "      <td>Welsh Springer Spaniel</td>\n",
       "      <td>0.465074</td>\n",
       "      <td>True</td>\n",
       "      <td>Collie</td>\n",
       "      <td>0.156665</td>\n",
       "      <td>True</td>\n",
       "      <td>Shetland Sheepdog</td>\n",
       "      <td>0.061428</td>\n",
       "      <td>True</td>\n",
       "    </tr>\n",
       "    <tr>\n",
       "      <th>1</th>\n",
       "      <td>666029285002620928</td>\n",
       "      <td>https://pbs.twimg.com/media/CT42GRgUYAA5iDo.jpg</td>\n",
       "      <td>1</td>\n",
       "      <td>Redbone</td>\n",
       "      <td>0.506826</td>\n",
       "      <td>True</td>\n",
       "      <td>Miniature Pinscher</td>\n",
       "      <td>0.074192</td>\n",
       "      <td>True</td>\n",
       "      <td>Rhodesian Ridgeback</td>\n",
       "      <td>0.072010</td>\n",
       "      <td>True</td>\n",
       "    </tr>\n",
       "    <tr>\n",
       "      <th>2</th>\n",
       "      <td>666033412701032449</td>\n",
       "      <td>https://pbs.twimg.com/media/CT4521TWwAEvMyu.jpg</td>\n",
       "      <td>1</td>\n",
       "      <td>German Shepherd</td>\n",
       "      <td>0.596461</td>\n",
       "      <td>True</td>\n",
       "      <td>Malinois</td>\n",
       "      <td>0.138584</td>\n",
       "      <td>True</td>\n",
       "      <td>Bloodhound</td>\n",
       "      <td>0.116197</td>\n",
       "      <td>True</td>\n",
       "    </tr>\n",
       "  </tbody>\n",
       "</table>\n",
       "</div>"
      ],
      "text/plain": [
       "             tweet_id                                          jpg_url  \\\n",
       "0  666020888022790149  https://pbs.twimg.com/media/CT4udn0WwAA0aMy.jpg   \n",
       "1  666029285002620928  https://pbs.twimg.com/media/CT42GRgUYAA5iDo.jpg   \n",
       "2  666033412701032449  https://pbs.twimg.com/media/CT4521TWwAEvMyu.jpg   \n",
       "\n",
       "   img_num                      p1   p1_conf  p1_dog                  p2  \\\n",
       "0        1  Welsh Springer Spaniel  0.465074    True              Collie   \n",
       "1        1                 Redbone  0.506826    True  Miniature Pinscher   \n",
       "2        1         German Shepherd  0.596461    True            Malinois   \n",
       "\n",
       "    p2_conf  p2_dog                   p3   p3_conf  p3_dog  \n",
       "0  0.156665    True    Shetland Sheepdog  0.061428    True  \n",
       "1  0.074192    True  Rhodesian Ridgeback  0.072010    True  \n",
       "2  0.138584    True           Bloodhound  0.116197    True  "
      ]
     },
     "execution_count": 623,
     "metadata": {},
     "output_type": "execute_result"
    }
   ],
   "source": [
    "tsvData_clean.head(3)"
   ]
  },
  {
   "cell_type": "code",
   "execution_count": null,
   "metadata": {},
   "outputs": [],
   "source": []
  },
  {
   "cell_type": "markdown",
   "metadata": {},
   "source": [
    "### Quality Issue 4:\n",
    "Remove columns that contain no information"
   ]
  },
  {
   "cell_type": "code",
   "execution_count": 624,
   "metadata": {},
   "outputs": [],
   "source": [
    "df_clean = df_clean.drop([\"retweeted_status_id\", \"retweeted_status_user_id\", \"retweeted_status_timestamp\", \n",
    "            'in_reply_to_status_id', 'in_reply_to_user_id'], axis=1)"
   ]
  },
  {
   "cell_type": "code",
   "execution_count": null,
   "metadata": {},
   "outputs": [],
   "source": []
  },
  {
   "cell_type": "markdown",
   "metadata": {},
   "source": [
    "### Quality Issue 5:\n",
    "Convert id column to string in tweet_df dataframe"
   ]
  },
  {
   "cell_type": "code",
   "execution_count": 625,
   "metadata": {},
   "outputs": [
    {
     "name": "stdout",
     "output_type": "stream",
     "text": [
      "<class 'pandas.core.frame.DataFrame'>\n",
      "RangeIndex: 2354 entries, 0 to 2353\n",
      "Data columns (total 4 columns):\n",
      "id                2354 non-null object\n",
      "retweet_count     2354 non-null int64\n",
      "favorite_count    2354 non-null int64\n",
      "user              2354 non-null object\n",
      "dtypes: int64(2), object(2)\n",
      "memory usage: 73.6+ KB\n"
     ]
    }
   ],
   "source": [
    "tweet_df_clean['id'] = tweet_df_clean['id'].astype(str)\n",
    "tweet_df_clean.info()"
   ]
  },
  {
   "cell_type": "code",
   "execution_count": null,
   "metadata": {},
   "outputs": [],
   "source": []
  },
  {
   "cell_type": "markdown",
   "metadata": {},
   "source": [
    "### Quality Issue 6:\n",
    "Few name records in Archive dataframe, df, contain articles (the, an, a) instead of actual names. Remove them for consistency. (Replace them with NaN)"
   ]
  },
  {
   "cell_type": "code",
   "execution_count": 626,
   "metadata": {},
   "outputs": [],
   "source": [
    "df_clean['name'] = df_clean['name'].replace(['a', 'an', 'the'], np.nan)"
   ]
  },
  {
   "cell_type": "code",
   "execution_count": 627,
   "metadata": {},
   "outputs": [],
   "source": [
    "df_clean['name'] = df_clean['name'].replace('None', np.nan)"
   ]
  },
  {
   "cell_type": "code",
   "execution_count": 628,
   "metadata": {},
   "outputs": [],
   "source": [
    "# test\n",
    "assert sum(df_clean['name'] == 'None') + sum(df_clean['name'] == 'a') + sum(df_clean['name'] == 'an') + sum(df_clean['name'] == 'a') == 0\n",
    "\n"
   ]
  },
  {
   "cell_type": "code",
   "execution_count": null,
   "metadata": {},
   "outputs": [],
   "source": []
  },
  {
   "cell_type": "markdown",
   "metadata": {},
   "source": [
    "### Quality Issue 7:\n",
    "Rename column in tweet_df \"id\" column name to \"tweet_id\" to merge it with the other 2 dataframes"
   ]
  },
  {
   "cell_type": "code",
   "execution_count": 629,
   "metadata": {},
   "outputs": [
    {
     "data": {
      "text/plain": [
       "Index(['tweet_id', 'retweet_count', 'favorite_count', 'user'], dtype='object')"
      ]
     },
     "execution_count": 629,
     "metadata": {},
     "output_type": "execute_result"
    }
   ],
   "source": [
    "tweet_df_clean.rename(columns={'id': 'tweet_id'}, inplace=True)\n",
    "tweet_df_clean.columns"
   ]
  },
  {
   "cell_type": "code",
   "execution_count": null,
   "metadata": {},
   "outputs": [],
   "source": []
  },
  {
   "cell_type": "markdown",
   "metadata": {},
   "source": [
    "### Quality Issue 8:\n",
    "Convert tweet_id to a string in image dataframe, tsvData"
   ]
  },
  {
   "cell_type": "code",
   "execution_count": 630,
   "metadata": {},
   "outputs": [
    {
     "name": "stdout",
     "output_type": "stream",
     "text": [
      "<class 'pandas.core.frame.DataFrame'>\n",
      "RangeIndex: 2075 entries, 0 to 2074\n",
      "Data columns (total 12 columns):\n",
      "tweet_id    2075 non-null object\n",
      "jpg_url     2075 non-null object\n",
      "img_num     2075 non-null int64\n",
      "p1          2075 non-null object\n",
      "p1_conf     2075 non-null float64\n",
      "p1_dog      2075 non-null bool\n",
      "p2          2075 non-null object\n",
      "p2_conf     2075 non-null float64\n",
      "p2_dog      2075 non-null bool\n",
      "p3          2075 non-null object\n",
      "p3_conf     2075 non-null float64\n",
      "p3_dog      2075 non-null bool\n",
      "dtypes: bool(3), float64(3), int64(1), object(5)\n",
      "memory usage: 152.1+ KB\n"
     ]
    }
   ],
   "source": [
    "tsvData_clean['tweet_id'] = tsvData_clean['tweet_id'].astype(str)\n",
    "tsvData_clean.info()"
   ]
  },
  {
   "cell_type": "code",
   "execution_count": null,
   "metadata": {},
   "outputs": [],
   "source": []
  },
  {
   "cell_type": "markdown",
   "metadata": {},
   "source": [
    "### Quality Issue 9:\n",
    "The ratings are inconsitent"
   ]
  },
  {
   "cell_type": "markdown",
   "metadata": {},
   "source": [
    "#### Description : \n",
    "\n",
    "Rating denominators are inconsistent and some rating numerators are relatively high"
   ]
  },
  {
   "cell_type": "markdown",
   "metadata": {},
   "source": [
    "#### Solution : \n",
    "\n",
    "Some of the dog ratings are exaggerated, eg. 1776/10, since rating are usually between 10/10 and 15/10. We will drop these rows and they will be excluded from the analysis.\n",
    "\n",
    "\n",
    "Then some of the ratings have denominators other than the usual \"10\". This can be the case for a group of dogs (e.g. a group of 5 dogs with 11/10 rating each would result in a 55/50 rating). If this is the case, then ratings should be standardized to a denom of \"10\"."
   ]
  },
  {
   "cell_type": "code",
   "execution_count": 631,
   "metadata": {},
   "outputs": [],
   "source": [
    "# standardizing to a denominator of 10 for groups of dogs:\n",
    "df_clean = df_clean[df_clean['rating_denominator'] > 0]\n",
    "\n",
    "df_clean['rating_n'] = [int(round(num/(denom/10)))  if denom != 10 and num/denom <= 2 \n",
    "                           else num for num, denom in zip(df_clean['rating_numerator'], df_clean['rating_denominator'])]\n",
    "df_clean['rating_d'] = [10 if denom != 10 and num/denom <= 2\n",
    "                             else denom for num, denom in zip(df_clean['rating_numerator'], df_clean['rating_denominator'])]\n",
    "# drop other columns\n",
    "df_clean = df_clean.drop(['rating_numerator', 'rating_denominator'], axis=1)\n",
    "\n"
   ]
  },
  {
   "cell_type": "code",
   "execution_count": 632,
   "metadata": {},
   "outputs": [
    {
     "data": {
      "text/plain": [
       "(array([  13,   12,   14,    5,   17,   11,   10,  420,  666,    6,   15,\n",
       "         182,    0,   75,    7,    9,   24,    8,    1,   27,    3,    4,\n",
       "        1776,    2,   26]), array([10,  7]))"
      ]
     },
     "execution_count": 632,
     "metadata": {},
     "output_type": "execute_result"
    }
   ],
   "source": [
    "df_clean['rating_n'].unique(),df_clean['rating_d'].unique()"
   ]
  },
  {
   "cell_type": "code",
   "execution_count": 633,
   "metadata": {},
   "outputs": [
    {
     "data": {
      "text/plain": [
       "(array([13, 12, 14,  5, 17, 11, 10,  6, 15,  0,  7,  9,  8,  1,  3,  4,  2]),\n",
       " array([10]))"
      ]
     },
     "execution_count": 633,
     "metadata": {},
     "output_type": "execute_result"
    }
   ],
   "source": [
    "df_clean = df_clean.drop(df_clean[((df_clean['rating_d'] != 10) | (df_clean['rating_n'] > 20))].index)\n",
    "df_clean['rating_n'].unique(),df_clean['rating_d'].unique()"
   ]
  },
  {
   "cell_type": "code",
   "execution_count": null,
   "metadata": {},
   "outputs": [],
   "source": []
  },
  {
   "cell_type": "markdown",
   "metadata": {},
   "source": [
    "### Tidiness Issue 1:\n",
    "Convert timestamp from string to datetime"
   ]
  },
  {
   "cell_type": "code",
   "execution_count": 634,
   "metadata": {},
   "outputs": [
    {
     "data": {
      "text/plain": [
       "0      2017-08-01 16:23:56\n",
       "1      2017-08-01 00:17:27\n",
       "2      2017-07-31 00:18:03\n",
       "3      2017-07-30 15:58:51\n",
       "4      2017-07-29 16:00:24\n",
       "5      2017-07-29 00:08:17\n",
       "6      2017-07-28 16:27:12\n",
       "7      2017-07-28 00:22:40\n",
       "8      2017-07-27 16:25:51\n",
       "9      2017-07-26 15:59:51\n",
       "10     2017-07-26 00:31:25\n",
       "11     2017-07-25 16:11:53\n",
       "12     2017-07-25 01:55:32\n",
       "13     2017-07-25 00:10:02\n",
       "14     2017-07-24 17:02:04\n",
       "15     2017-07-24 00:19:32\n",
       "16     2017-07-23 00:22:39\n",
       "17     2017-07-22 16:56:37\n",
       "18     2017-07-22 00:23:06\n",
       "19     2017-07-21 01:02:36\n",
       "20     2017-07-20 16:49:33\n",
       "21     2017-07-19 16:06:48\n",
       "22     2017-07-19 03:39:09\n",
       "23     2017-07-19 00:47:34\n",
       "24     2017-07-18 16:08:03\n",
       "25     2017-07-18 00:07:08\n",
       "26     2017-07-17 16:17:36\n",
       "27     2017-07-16 23:58:41\n",
       "28     2017-07-16 20:14:00\n",
       "29     2017-07-15 23:25:31\n",
       "               ...        \n",
       "2326   2015-11-17 00:24:19\n",
       "2327   2015-11-17 00:06:54\n",
       "2328   2015-11-16 23:23:41\n",
       "2329   2015-11-16 21:54:18\n",
       "2330   2015-11-16 21:10:36\n",
       "2331   2015-11-16 20:32:58\n",
       "2332   2015-11-16 20:01:42\n",
       "2333   2015-11-16 19:31:45\n",
       "2334   2015-11-16 16:37:02\n",
       "2335   2015-11-16 16:11:11\n",
       "2336   2015-11-16 15:14:19\n",
       "2337   2015-11-16 14:57:41\n",
       "2338   2015-11-16 04:02:55\n",
       "2339   2015-11-16 03:55:04\n",
       "2340   2015-11-16 03:44:34\n",
       "2341   2015-11-16 03:22:39\n",
       "2342   2015-11-16 02:38:37\n",
       "2343   2015-11-16 01:59:36\n",
       "2344   2015-11-16 01:52:02\n",
       "2345   2015-11-16 01:22:45\n",
       "2346   2015-11-16 01:01:59\n",
       "2347   2015-11-16 00:55:59\n",
       "2348   2015-11-16 00:49:46\n",
       "2349   2015-11-16 00:35:11\n",
       "2350   2015-11-16 00:30:50\n",
       "2351   2015-11-16 00:24:50\n",
       "2352   2015-11-16 00:04:52\n",
       "2353   2015-11-15 23:21:54\n",
       "2354   2015-11-15 23:05:30\n",
       "2355   2015-11-15 22:32:08\n",
       "Name: timestamp, Length: 2345, dtype: datetime64[ns]"
      ]
     },
     "execution_count": 634,
     "metadata": {},
     "output_type": "execute_result"
    }
   ],
   "source": [
    "df_clean['timestamp'] =  pd.to_datetime(df_clean['timestamp'], infer_datetime_format=True)\n",
    "df_clean.timestamp"
   ]
  },
  {
   "cell_type": "code",
   "execution_count": 635,
   "metadata": {},
   "outputs": [
    {
     "name": "stdout",
     "output_type": "stream",
     "text": [
      "<class 'pandas.core.frame.DataFrame'>\n",
      "Int64Index: 2345 entries, 0 to 2355\n",
      "Data columns (total 12 columns):\n",
      "tweet_id         2345 non-null object\n",
      "timestamp        2345 non-null datetime64[ns]\n",
      "source           2345 non-null object\n",
      "text             2345 non-null object\n",
      "expanded_urls    2290 non-null object\n",
      "name             1536 non-null object\n",
      "doggo            2345 non-null object\n",
      "floofer          2345 non-null object\n",
      "pupper           2345 non-null object\n",
      "puppo            2345 non-null object\n",
      "rating_n         2345 non-null int64\n",
      "rating_d         2345 non-null int64\n",
      "dtypes: datetime64[ns](1), int64(2), object(9)\n",
      "memory usage: 238.2+ KB\n"
     ]
    }
   ],
   "source": [
    "df_clean.info()"
   ]
  },
  {
   "cell_type": "code",
   "execution_count": null,
   "metadata": {},
   "outputs": [],
   "source": []
  },
  {
   "cell_type": "markdown",
   "metadata": {},
   "source": [
    "### Tidiness Issue 2:\n",
    "Combine Dog Stages into one single column instead of multiple columns of that data"
   ]
  },
  {
   "cell_type": "code",
   "execution_count": 636,
   "metadata": {},
   "outputs": [
    {
     "data": {
      "text/plain": [
       "NoneNoneNoneNone        1966\n",
       "NoneNonepupperNone       244\n",
       "doggoNoneNoneNone         83\n",
       "NoneNoneNonepuppo         29\n",
       "doggoNonepupperNone       12\n",
       "NoneflooferNoneNone        9\n",
       "doggoflooferNoneNone       1\n",
       "doggoNoneNonepuppo         1\n",
       "Name: dog_stage, dtype: int64"
      ]
     },
     "execution_count": 636,
     "metadata": {},
     "output_type": "execute_result"
    }
   ],
   "source": [
    "df_clean['dog_stage'] = df[['doggo', 'floofer','pupper','puppo']].apply(lambda x: ''.join(x), axis=1)\n",
    "df_clean.dog_stage.value_counts()"
   ]
  },
  {
   "cell_type": "code",
   "execution_count": 637,
   "metadata": {},
   "outputs": [
    {
     "data": {
      "text/plain": [
       "None                    1966\n",
       "pupper                   244\n",
       "doggo                     83\n",
       "puppo                     29\n",
       "doggoNonepupperNone       12\n",
       "floofer                    9\n",
       "doggoNoneNonepuppo         1\n",
       "doggoflooferNoneNone       1\n",
       "Name: dog_stage, dtype: int64"
      ]
     },
     "execution_count": 637,
     "metadata": {},
     "output_type": "execute_result"
    }
   ],
   "source": [
    "df_clean['dog_stage'].replace(\"NoneNoneNoneNone\",\"None\", inplace=True)\n",
    "df_clean['dog_stage'].replace(\"doggoNoneNoneNone\",\"doggo\", inplace=True)\n",
    "df_clean['dog_stage'].replace(\"NoneflooferNoneNone\",\"floofer\", inplace=True)\n",
    "df_clean['dog_stage'].replace(\"NoneNonepupperNone\",\"pupper\", inplace=True)\n",
    "df_clean['dog_stage'].replace(\"NoneNoneNonepuppo\",\"puppo\", inplace=True)\n",
    "df_clean.dog_stage.value_counts()"
   ]
  },
  {
   "cell_type": "code",
   "execution_count": 638,
   "metadata": {},
   "outputs": [
    {
     "data": {
      "text/plain": [
       "Index(['tweet_id', 'timestamp', 'source', 'text', 'expanded_urls', 'name',\n",
       "       'doggo', 'floofer', 'pupper', 'puppo', 'rating_n', 'rating_d',\n",
       "       'dog_stage'],\n",
       "      dtype='object')"
      ]
     },
     "execution_count": 638,
     "metadata": {},
     "output_type": "execute_result"
    }
   ],
   "source": [
    "df_clean.columns"
   ]
  },
  {
   "cell_type": "code",
   "execution_count": 639,
   "metadata": {},
   "outputs": [
    {
     "data": {
      "text/plain": [
       "Index(['tweet_id', 'timestamp', 'source', 'text', 'expanded_urls', 'name',\n",
       "       'rating_n', 'rating_d', 'dog_stage'],\n",
       "      dtype='object')"
      ]
     },
     "execution_count": 639,
     "metadata": {},
     "output_type": "execute_result"
    }
   ],
   "source": [
    "col = ['doggo', 'floofer','pupper', 'puppo']\n",
    "df_clean.drop(col,axis=1,inplace=True)\n",
    "df_clean.columns"
   ]
  },
  {
   "cell_type": "code",
   "execution_count": null,
   "metadata": {},
   "outputs": [],
   "source": []
  },
  {
   "cell_type": "markdown",
   "metadata": {},
   "source": [
    "## Merging the DataSets and Cleaning"
   ]
  },
  {
   "cell_type": "code",
   "execution_count": 640,
   "metadata": {},
   "outputs": [
    {
     "name": "stdout",
     "output_type": "stream",
     "text": [
      "<class 'pandas.core.frame.DataFrame'>\n",
      "Int64Index: 2356 entries, 0 to 2355\n",
      "Data columns (total 23 columns):\n",
      "tweet_id          2356 non-null object\n",
      "retweet_count     2354 non-null float64\n",
      "favorite_count    2354 non-null float64\n",
      "user              2354 non-null object\n",
      "timestamp         2345 non-null datetime64[ns]\n",
      "source            2345 non-null object\n",
      "text              2345 non-null object\n",
      "expanded_urls     2290 non-null object\n",
      "name              1536 non-null object\n",
      "rating_n          2345 non-null float64\n",
      "rating_d          2345 non-null float64\n",
      "dog_stage         2345 non-null object\n",
      "jpg_url           2075 non-null object\n",
      "img_num           2075 non-null float64\n",
      "p1                2075 non-null object\n",
      "p1_conf           2075 non-null float64\n",
      "p1_dog            2075 non-null object\n",
      "p2                2075 non-null object\n",
      "p2_conf           2075 non-null float64\n",
      "p2_dog            2075 non-null object\n",
      "p3                2075 non-null object\n",
      "p3_conf           2075 non-null float64\n",
      "p3_dog            2075 non-null object\n",
      "dtypes: datetime64[ns](1), float64(8), object(14)\n",
      "memory usage: 441.8+ KB\n"
     ]
    }
   ],
   "source": [
    "# Merging all three dataframes\n",
    "tweet_merge_clean = pd.merge(tweet_df_clean, df_clean, on='tweet_id', how='outer')\n",
    "tweet_merge_clean = pd.merge(tweet_merge_clean, tsvData_clean, on='tweet_id', how='outer')\n",
    "tweet_merge_clean.info()"
   ]
  },
  {
   "cell_type": "code",
   "execution_count": 641,
   "metadata": {},
   "outputs": [
    {
     "data": {
      "text/plain": [
       "Index(['tweet_id', 'retweet_count', 'favorite_count', 'user', 'timestamp',\n",
       "       'source', 'text', 'expanded_urls', 'name', 'rating_n', 'rating_d',\n",
       "       'dog_stage', 'jpg_url', 'img_num', 'p1', 'p1_conf', 'p1_dog', 'p2',\n",
       "       'p2_conf', 'p2_dog', 'p3', 'p3_conf', 'p3_dog'],\n",
       "      dtype='object')"
      ]
     },
     "execution_count": 641,
     "metadata": {},
     "output_type": "execute_result"
    }
   ],
   "source": [
    "tweet_merge_clean.columns"
   ]
  },
  {
   "cell_type": "code",
   "execution_count": null,
   "metadata": {},
   "outputs": [],
   "source": []
  },
  {
   "cell_type": "markdown",
   "metadata": {},
   "source": [
    "### Create a dog breed column with the available data"
   ]
  },
  {
   "cell_type": "code",
   "execution_count": 642,
   "metadata": {},
   "outputs": [],
   "source": [
    "# Creates a predicted dog breed column, based on the the confidence level of minimum 30% and 'is dog' statements\n",
    "tweet_merge_clean['breed_pred'] = [i['p1'] if i['p1_dog'] == True and i['p1_conf'] > 0.3 \n",
    "                     else i['p2'] if i['p2_dog'] == True and i['p2_conf'] > 0.3\n",
    "                     else i['p3'] if i['p3_dog'] == True and i['p3_conf'] > 0.3\n",
    "                     else np.nan for index, i in tweet_merge_clean.iterrows()]"
   ]
  },
  {
   "cell_type": "code",
   "execution_count": null,
   "metadata": {},
   "outputs": [],
   "source": []
  },
  {
   "cell_type": "markdown",
   "metadata": {},
   "source": [
    "# Storing Data For this project"
   ]
  },
  {
   "cell_type": "code",
   "execution_count": 656,
   "metadata": {},
   "outputs": [],
   "source": [
    "tweet_merge_clean.to_csv('twitter_archive_master.csv')"
   ]
  },
  {
   "cell_type": "code",
   "execution_count": 657,
   "metadata": {},
   "outputs": [
    {
     "data": {
      "text/plain": [
       "Index(['tweet_id', 'retweet_count', 'favorite_count', 'user', 'timestamp',\n",
       "       'source', 'text', 'expanded_urls', 'name', 'rating_n', 'rating_d',\n",
       "       'dog_stage', 'jpg_url', 'img_num', 'p1', 'p1_conf', 'p1_dog', 'p2',\n",
       "       'p2_conf', 'p2_dog', 'p3', 'p3_conf', 'p3_dog', 'breed_pred'],\n",
       "      dtype='object')"
      ]
     },
     "execution_count": 657,
     "metadata": {},
     "output_type": "execute_result"
    }
   ],
   "source": [
    "tweet_merge_clean.columns"
   ]
  },
  {
   "cell_type": "code",
   "execution_count": null,
   "metadata": {},
   "outputs": [],
   "source": []
  },
  {
   "cell_type": "markdown",
   "metadata": {},
   "source": [
    "# Analysis"
   ]
  },
  {
   "cell_type": "markdown",
   "metadata": {},
   "source": [
    "## EDA\n",
    "\n",
    "1) Top 10 breeds in the data\n",
    "\n",
    "2) Top 10 names of Dogs"
   ]
  },
  {
   "cell_type": "code",
   "execution_count": 645,
   "metadata": {},
   "outputs": [
    {
     "data": {
      "text/plain": [
       "Golden Retriever      138\n",
       "Labrador Retriever     93\n",
       "Pembroke               85\n",
       "Chihuahua              69\n",
       "Pug                    53\n",
       "Samoyed                40\n",
       "Pomeranian             36\n",
       "Toy Poodle             36\n",
       "Chow                   35\n",
       "Malamute               28\n",
       "Name: breed_pred, dtype: int64"
      ]
     },
     "execution_count": 645,
     "metadata": {},
     "output_type": "execute_result"
    }
   ],
   "source": [
    "# The top 10 dog breeds in the dataset\n",
    "tweet_merge_clean['breed_pred'].value_counts()[:10]"
   ]
  },
  {
   "cell_type": "code",
   "execution_count": 646,
   "metadata": {},
   "outputs": [
    {
     "data": {
      "text/plain": [
       "Charlie    12\n",
       "Lucy       11\n",
       "Oliver     11\n",
       "Cooper     11\n",
       "Tucker     10\n",
       "Lola       10\n",
       "Penny      10\n",
       "Winston     9\n",
       "Bo          9\n",
       "Sadie       8\n",
       "Name: name, dtype: int64"
      ]
     },
     "execution_count": 646,
     "metadata": {},
     "output_type": "execute_result"
    }
   ],
   "source": [
    "# The top 10 dog names in the dataset\n",
    "tweet_merge_clean['name'].value_counts()[:10]"
   ]
  },
  {
   "cell_type": "code",
   "execution_count": 647,
   "metadata": {},
   "outputs": [
    {
     "data": {
      "text/plain": [
       "Index(['tweet_id', 'retweet_count', 'favorite_count', 'user', 'timestamp',\n",
       "       'source', 'text', 'expanded_urls', 'name', 'rating_n', 'rating_d',\n",
       "       'dog_stage', 'jpg_url', 'img_num', 'p1', 'p1_conf', 'p1_dog', 'p2',\n",
       "       'p2_conf', 'p2_dog', 'p3', 'p3_conf', 'p3_dog', 'breed_pred'],\n",
       "      dtype='object')"
      ]
     },
     "execution_count": 647,
     "metadata": {},
     "output_type": "execute_result"
    }
   ],
   "source": [
    "tweet_merge_clean.columns"
   ]
  },
  {
   "cell_type": "code",
   "execution_count": 648,
   "metadata": {},
   "outputs": [
    {
     "data": {
      "text/plain": [
       "count    2345.000000\n",
       "mean       10.693390\n",
       "std         2.194135\n",
       "min         0.000000\n",
       "25%        10.000000\n",
       "50%        11.000000\n",
       "75%        12.000000\n",
       "max        17.000000\n",
       "Name: rating_n, dtype: float64"
      ]
     },
     "execution_count": 648,
     "metadata": {},
     "output_type": "execute_result"
    }
   ],
   "source": [
    "# Descriptive information about the dog's ratings from the dataset\n",
    "tweet_merge_clean['rating_n'].describe()"
   ]
  },
  {
   "cell_type": "code",
   "execution_count": 649,
   "metadata": {},
   "outputs": [
    {
     "data": {
      "image/png": "[encoded data removed]",
      "text/plain": [
       "<Figure size 576x432 with 1 Axes>"
      ]
     },
     "metadata": {
      "needs_background": "light"
     },
     "output_type": "display_data"
    }
   ],
   "source": [
    "# Distribution of ratings through histogram\n",
    "plt.figure(figsize=[8,6])\n",
    "plt.hist(tweet_merge_clean['rating_n'], bins=np.arange(0.5, 20, 1), alpha=0.7, color='#64818e')\n",
    "plt.xlabel('Rating')\n",
    "plt.ylabel('Amount')\n",
    "plt.title('Rating Distribution');"
   ]
  },
  {
   "cell_type": "code",
   "execution_count": null,
   "metadata": {},
   "outputs": [],
   "source": []
  },
  {
   "cell_type": "markdown",
   "metadata": {},
   "source": [
    "## EDA Conclusion"
   ]
  },
  {
   "cell_type": "markdown",
   "metadata": {},
   "source": [
    "The top 3 dog breeds, by count, in this dataset are **Golden Retrievers**, **Labrador Retrievers** and **Pembroke Corgis**, while **Charlie** and **Lucy** being the most represented dog names with 12 and 11 dog names each. The rating distribution is left-skewed with a median rating of 11 and an average rating of 10.693390"
   ]
  },
  {
   "cell_type": "code",
   "execution_count": null,
   "metadata": {},
   "outputs": [],
   "source": []
  },
  {
   "cell_type": "markdown",
   "metadata": {},
   "source": [
    "# Questions\n",
    "\n",
    "1) Which dog breed recieved the highest ratings on average?\n",
    "\n",
    "2) Which dog breed recieved the highest favorite count on average?"
   ]
  },
  {
   "cell_type": "markdown",
   "metadata": {},
   "source": [
    "#### Q1 : Which dog breed recieved the highest ratings on average?"
   ]
  },
  {
   "cell_type": "code",
   "execution_count": 650,
   "metadata": {},
   "outputs": [
    {
     "data": {
      "text/plain": [
       "breed_pred\n",
       "Afghan Hound                   13.000000\n",
       "Saluki                         12.500000\n",
       "Tibetan Mastiff                12.400000\n",
       "Briard                         12.333333\n",
       "Eskimo Dog                     12.071429\n",
       "Gordon Setter                  12.000000\n",
       "Silky Terrier                  12.000000\n",
       "Standard Schnauzer             12.000000\n",
       "Border Terrier                 12.000000\n",
       "Toy Terrier                    12.000000\n",
       "Irish Setter                   11.833333\n",
       "Samoyed                        11.675000\n",
       "Chow                           11.657143\n",
       "Great Pyrenees                 11.615385\n",
       "Standard Poodle                11.600000\n",
       "Golden Retriever               11.569343\n",
       "Cardigan                       11.529412\n",
       "Giant Schnauzer                11.500000\n",
       "Pembroke                       11.435294\n",
       "Norwegian Elkhound             11.428571\n",
       "Cocker Spaniel                 11.333333\n",
       "Greater Swiss Mountain Dog     11.333333\n",
       "Leonberg                       11.333333\n",
       "Old English Sheepdog           11.300000\n",
       "Blenheim Spaniel               11.300000\n",
       "Bernese Mountain Dog           11.272727\n",
       "Doberman                       11.250000\n",
       "French Bulldog                 11.240000\n",
       "Toy Poodle                     11.222222\n",
       "Rottweiler                     11.200000\n",
       "                                 ...    \n",
       "Keeshond                       10.250000\n",
       "Lhasa                          10.250000\n",
       "Bloodhound                     10.200000\n",
       "Airedale                       10.181818\n",
       "Papillon                       10.166667\n",
       "Yorkshire Terrier              10.142857\n",
       "Saint Bernard                  10.142857\n",
       "Miniature Poodle               10.142857\n",
       "Bluetick                       10.000000\n",
       "Australian Terrier             10.000000\n",
       "Groenendael                    10.000000\n",
       "Brabancon Griffon              10.000000\n",
       "English Setter                 10.000000\n",
       "Weimaraner                     10.000000\n",
       "Rhodesian Ridgeback             9.666667\n",
       "Italian Greyhound               9.636364\n",
       "Redbone                         9.600000\n",
       "Soft-Coated Wheaten Terrier     9.600000\n",
       "Maltese Dog                     9.500000\n",
       "Welsh Springer Spaniel          9.500000\n",
       "Boston Bull                     9.375000\n",
       "Bedlington Terrier              9.333333\n",
       "Ibizan Hound                    9.333333\n",
       "Tibetan Terrier                 9.333333\n",
       "Dalmatian                       9.100000\n",
       "Miniature Schnauzer             8.666667\n",
       "Walker Hound                    8.333333\n",
       "Norwich Terrier                 8.000000\n",
       "Japanese Spaniel                5.000000\n",
       "Clumber                              NaN\n",
       "Name: rating_n, Length: 109, dtype: float64"
      ]
     },
     "execution_count": 650,
     "metadata": {},
     "output_type": "execute_result"
    }
   ],
   "source": [
    "# groups the dataset by dog breeds and computes the average rating for each group\n",
    "breed = tweet_merge_clean.groupby('breed_pred')['rating_n'].mean()\n",
    "\n",
    "# filter out dog breed that appear 0 times\n",
    "breed = breed[tweet_merge_clean['breed_pred'].value_counts() > 0].sort_values(ascending=False)\n",
    "breed"
   ]
  },
  {
   "cell_type": "code",
   "execution_count": 651,
   "metadata": {},
   "outputs": [
    {
     "data": {
      "image/png": "[encoded data removed]",
      "text/plain": [
       "<Figure size 720x2160 with 1 Axes>"
      ]
     },
     "metadata": {
      "needs_background": "light"
     },
     "output_type": "display_data"
    }
   ],
   "source": [
    "# axis values\n",
    "x_axis = list(breed)\n",
    "y_axis = [i.title() for i in breed.index]\n",
    "\n",
    "# plot bar chart\n",
    "plt.figure(figsize=[10,30])\n",
    "plt.xlim(7,14)\n",
    "plt.xlabel('Average Rating')\n",
    "plt.title('Average Rating for each Dog Breed')\n",
    "colors = ['#8dafbe' if (x < max(x_axis)) else '#f8e863' for x in x_axis]\n",
    "ax = sns.barplot(x=x_axis, y=y_axis, label=y_axis, color=\"b\", palette=colors)\n",
    "plt.show();"
   ]
  },
  {
   "cell_type": "markdown",
   "metadata": {},
   "source": [
    "#### Answer:\n",
    "\n",
    "**Afghan Hound** dogs recieved the highest ratings with an average rating of 13, followed by **Saluki** with an average rating of 12.5 and Tibetan Mastiff with an average rating of 12.4"
   ]
  },
  {
   "cell_type": "code",
   "execution_count": null,
   "metadata": {},
   "outputs": [],
   "source": []
  },
  {
   "cell_type": "markdown",
   "metadata": {},
   "source": [
    "#### Q2 : Which dog breed recieved the highest favorite count on average?\n"
   ]
  },
  {
   "cell_type": "code",
   "execution_count": 652,
   "metadata": {},
   "outputs": [
    {
     "data": {
      "text/plain": [
       "breed_pred\n",
       "Saluki                         24060.000000\n",
       "Standard Poodle                20484.200000\n",
       "French Bulldog                 17828.680000\n",
       "Giant Schnauzer                17314.500000\n",
       "Afghan Hound                   17305.000000\n",
       "Black-And-Tan Coonhound        17012.000000\n",
       "Flat-Coated Retriever          16791.625000\n",
       "Mexican Hairless               15959.666667\n",
       "Leonberg                       14934.333333\n",
       "Eskimo Dog                     14896.928571\n",
       "English Springer               14091.500000\n",
       "Cardigan                       13867.882353\n",
       "Irish Water Spaniel            13651.000000\n",
       "Great Pyrenees                 13580.384615\n",
       "Norwegian Elkhound             12234.285714\n",
       "Basset                         12232.230769\n",
       "Samoyed                        12184.700000\n",
       "Border Terrier                 12017.166667\n",
       "Bloodhound                     11980.200000\n",
       "Labrador Retriever             11925.946237\n",
       "Bedlington Terrier             11906.666667\n",
       "Cocker Spaniel                 11633.333333\n",
       "Newfoundland                   11577.000000\n",
       "Pembroke                       11488.583333\n",
       "Chesapeake Bay Retriever       11473.473684\n",
       "Golden Retriever               11473.115942\n",
       "Wire-Haired Fox Terrier        11001.000000\n",
       "Kelpie                         10818.857143\n",
       "Greater Swiss Mountain Dog     10523.666667\n",
       "German Shepherd                10339.526316\n",
       "                                   ...     \n",
       "Keeshond                        4914.750000\n",
       "Beagle                          4799.812500\n",
       "Shih-Tzu                        4639.916667\n",
       "Curly-Coated Retriever          4612.000000\n",
       "Dandie Dinmont                  4533.666667\n",
       "Malinois                        4511.500000\n",
       "Rhodesian Ridgeback             4509.000000\n",
       "Miniature Schnauzer             4500.000000\n",
       "Papillon                        4354.833333\n",
       "Italian Greyhound               4346.363636\n",
       "Ibizan Hound                    4287.333333\n",
       "Sussex Spaniel                  4061.500000\n",
       "Miniature Poodle                3934.285714\n",
       "Yorkshire Terrier               3870.428571\n",
       "Lakeland Terrier                3851.750000\n",
       "Saint Bernard                   3810.142857\n",
       "Welsh Springer Spaniel          3342.000000\n",
       "Redbone                         3067.000000\n",
       "Maltese Dog                     3054.000000\n",
       "Lhasa                           2784.000000\n",
       "Basenji                         2782.800000\n",
       "Entlebucher                     2678.000000\n",
       "Australian Terrier              2244.000000\n",
       "Soft-Coated Wheaten Terrier     2159.500000\n",
       "Cairn                           2053.000000\n",
       "Standard Schnauzer              2046.000000\n",
       "Groenendael                     1896.000000\n",
       "Tibetan Terrier                 1403.666667\n",
       "Japanese Spaniel                1362.000000\n",
       "Brabancon Griffon                830.500000\n",
       "Name: favorite_count, Length: 109, dtype: float64"
      ]
     },
     "execution_count": 652,
     "metadata": {},
     "output_type": "execute_result"
    }
   ],
   "source": [
    "# groups the dataset by dog breeds and computes the average favorite count for each group\n",
    "breed_fav = tweet_merge_clean.groupby('breed_pred')['favorite_count'].mean()\n",
    "\n",
    "# filters out dog breed that appear less than 10 times\n",
    "breed_fav = breed_fav[tweet_merge_clean['breed_pred'].value_counts() > 0].sort_values(ascending=False)\n",
    "breed_fav"
   ]
  },
  {
   "cell_type": "code",
   "execution_count": 653,
   "metadata": {},
   "outputs": [
    {
     "data": {
      "image/png": "[encoded data removed]",
      "text/plain": [
       "<Figure size 720x2160 with 1 Axes>"
      ]
     },
     "metadata": {
      "needs_background": "light"
     },
     "output_type": "display_data"
    }
   ],
   "source": [
    "# define axis values\n",
    "x_axis = list(breed_fav)\n",
    "y_axis = [i.title() for i in breed_fav.index]\n",
    "\n",
    "# plot the bar chart\n",
    "plt.figure(figsize=[10,30])\n",
    "plt.xlim(0, 25000)\n",
    "plt.xlabel('Average Favorite Count')\n",
    "plt.title('Average Favorite Count for each Dog Breed')\n",
    "colors = ['#8dafbe' if (x < max(x_axis)) else '#f8e863' for x in x_axis]\n",
    "ax = sns.barplot(x=x_axis, y=y_axis, label=y_axis, color=\"b\", palette=colors)\n",
    "plt.show();"
   ]
  },
  {
   "cell_type": "markdown",
   "metadata": {},
   "source": [
    "#### Answer:\n",
    "\n",
    "Regarding the popularity of dog breeds, **Saluki** have scored the highest between all dog breeds with an average favorite count of 24060 per tweet, while they were 2nd in the average ratings. The second most popular dog breed on WeRateDogs is the **Standard Poodle** with an average favorite counnt of 20484.2 per tweet, but were placed 15th on the average rating chart."
   ]
  },
  {
   "cell_type": "code",
   "execution_count": null,
   "metadata": {},
   "outputs": [],
   "source": []
  }
 ],
 "metadata": {
  "kernelspec": {
   "display_name": "Python 3",
   "language": "python",
   "name": "python3"
  },
  "language_info": {
   "codemirror_mode": {
    "name": "ipython",
    "version": 3
   },
   "file_extension": ".py",
   "mimetype": "text/x-python",
   "name": "python",
   "nbconvert_exporter": "python",
   "pygments_lexer": "ipython3",
   "version": "3.6.6"
  }
 },
 "nbformat": 4,
 "nbformat_minor": 2
}
